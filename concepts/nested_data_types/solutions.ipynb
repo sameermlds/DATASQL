{
 "cells": [
  {
   "cell_type": "markdown",
   "id": "796a4989-6378-4ecb-9993-c429b6d321ec",
   "metadata": {},
   "source": [
    "#### Code for blog at **[How to use nested data types effectively in SQL](https://www.startdataengineering.com/post/use-structs-sql/)**"
   ]
  },
  {
   "cell_type": "markdown",
   "id": "1c139abf-de0b-43fb-a61f-8adbf0a469e1",
   "metadata": {},
   "source": [
    "# [SETUP] "
   ]
  },
  {
   "cell_type": "code",
   "execution_count": null,
   "id": "5e4cfb0f-546f-4fe1-ac2c-d24308f136a7",
   "metadata": {},
   "outputs": [],
   "source": [
    "! python ./setup.py --db_file tpch_solutions.db"
   ]
  },
  {
   "cell_type": "markdown",
   "id": "2e7fc827-9b99-461c-9418-77fe22008bf6",
   "metadata": {},
   "source": [
    "## Connect to DuckDB"
   ]
  },
  {
   "cell_type": "code",
   "execution_count": null,
   "id": "1103f7ca-d420-4a10-887a-1ce76ab9f270",
   "metadata": {},
   "outputs": [],
   "source": [
    "import duckdb\n",
    "import pandas as pd\n",
    "\n",
    "%load_ext sql\n",
    "conn = duckdb.connect(\"tpch_solutions.db\")\n",
    "%sql conn --alias duckdb_solutions"
   ]
  },
  {
   "cell_type": "code",
   "execution_count": null,
   "id": "bc79b7b1-3552-4c70-b0c9-ec9cf8e9acf3",
   "metadata": {},
   "outputs": [],
   "source": [
    "%%sql\n",
    "show tables;"
   ]
  },
  {
   "cell_type": "markdown",
   "id": "cf84a30a-f3f9-4fed-9f0e-d6d83f98566b",
   "metadata": {},
   "source": [
    "# Exercise 1"
   ]
  },
  {
   "cell_type": "code",
   "execution_count": null,
   "id": "3f7f4f3d-c3e9-450c-9a53-40b8b11b8e56",
   "metadata": {},
   "outputs": [],
   "source": [
    "# exercise, to the above query add region attributes"
   ]
  },
  {
   "cell_type": "code",
   "execution_count": null,
   "id": "594f5b7e-a5e2-40c1-b492-5108c72379d9",
   "metadata": {},
   "outputs": [],
   "source": [
    "%%sql\n",
    "-- Hierarchical data with region attributes\n",
    "SELECT \n",
    "    l.*, \n",
    "    struct_pack(\n",
    "        id := c.c_custkey,\n",
    "        name := c.c_name,\n",
    "        address := c.c_address,\n",
    "        nationkey := c.c_nationkey,\n",
    "        phone := c.c_phone,\n",
    "        acctbal := c.c_acctbal,\n",
    "        mktsegment := c.c_mktsegment,\n",
    "        comment := c.c_comment,\n",
    "        nation := struct_pack(\n",
    "            nationkey := n.n_nationkey,\n",
    "            name := n.n_name,\n",
    "            regionkey := n.n_regionkey,\n",
    "            comment := n.n_comment,\n",
    "            region := struct_pack(\n",
    "                regionkey := r.r_regionkey,\n",
    "                name := r.r_name,\n",
    "                comment := r.r_comment\n",
    "            )\n",
    "        )\n",
    "    ) AS customer,\n",
    "    struct_pack(\n",
    "        id := s.s_suppkey,\n",
    "        name := s.s_name,\n",
    "        address := s.s_address,\n",
    "        nationkey := s.s_nationkey,\n",
    "        phone := s.s_phone,\n",
    "        acctbal := s.s_acctbal,\n",
    "        comment := s.s_comment,\n",
    "        nation := struct_pack(\n",
    "            nationkey := sn.n_nationkey,\n",
    "            name := sn.n_name,\n",
    "            regionkey := sn.n_regionkey,\n",
    "            comment := sn.n_comment,\n",
    "            region := struct_pack(\n",
    "                regionkey := sr.r_regionkey,\n",
    "                name := sr.r_name,\n",
    "                comment := sr.r_comment\n",
    "            )\n",
    "        )\n",
    "    ) AS supplier\n",
    "FROM \n",
    "    lineitem l\n",
    "LEFT JOIN \n",
    "    orders o ON l.l_orderkey = o.o_orderkey\n",
    "LEFT JOIN \n",
    "    customer c ON o.o_custkey = c.c_custkey\n",
    "LEFT JOIN\n",
    "    nation n ON c.c_nationkey = n.n_nationkey\n",
    "LEFT JOIN\n",
    "    region r ON n.n_regionkey = r.r_regionkey\n",
    "LEFT JOIN \n",
    "    supplier s ON l.l_suppkey = s.s_suppkey\n",
    "LEFT JOIN\n",
    "    nation sn ON s.s_nationkey = sn.n_nationkey\n",
    "LEFT JOIN\n",
    "    region sr ON sn.n_regionkey = sr.r_regionkey\n",
    "LIMIT 5;"
   ]
  },
  {
   "cell_type": "markdown",
   "id": "c08a5704-9010-4405-b60f-796b10511e96",
   "metadata": {},
   "source": [
    "# Exercise 2"
   ]
  },
  {
   "cell_type": "code",
   "execution_count": null,
   "id": "efcc59e5-ccce-426c-adf1-4e11ca68689d",
   "metadata": {},
   "outputs": [],
   "source": [
    "%%sql\n",
    "CREATE TABLE IF NOT EXISTS wide_orders AS \n",
    "WITH line_items as (\n",
    "SELECT \n",
    "    l_orderkey as orderkey,\n",
    "    array_agg(struct_pack(\n",
    "        lineitemkey := l.l_linenumber,\n",
    "        partkey := l.l_partkey,\n",
    "        suppkey := l.l_suppkey,\n",
    "        quantity := l.l_quantity,\n",
    "        extendedprice := l.l_extendedprice,\n",
    "        discount := l.l_discount,\n",
    "        tax := l.l_tax,\n",
    "        returnflag := l.l_returnflag,\n",
    "        linestatus := l.l_linestatus,\n",
    "        shipdate := l.l_shipdate,\n",
    "        commitdate := l.l_commitdate,\n",
    "        receiptdate := l.l_receiptdate,\n",
    "        shipinstruct := l.l_shipinstruct,\n",
    "        shipmode := l.l_shipmode,\n",
    "        comment := l.l_comment\n",
    "    )) AS lineitems\n",
    "FROM \n",
    "    lineitem l \n",
    "GROUP BY \n",
    "    l_orderkey)\n",
    "SELECT \n",
    "    o.*,\n",
    "    l.lineitems,\n",
    "    struct_pack(\n",
    "        id := c.c_custkey,\n",
    "        name := c.c_name,\n",
    "        address := c.c_address,\n",
    "        nationkey := c.c_nationkey,\n",
    "        phone := c.c_phone,\n",
    "        acctbal := c.c_acctbal,\n",
    "        mktsegment := c.c_mktsegment,\n",
    "        comment := c.c_comment,\n",
    "        nation := struct_pack(\n",
    "            nationkey := n.n_nationkey,\n",
    "            name := n.n_name,\n",
    "            regionkey := n.n_regionkey,\n",
    "            comment := n.n_comment\n",
    "        )\n",
    "    ) AS customer\n",
    "FROM \n",
    "    orders o\n",
    "LEFT JOIN \n",
    "    line_items l ON o.o_orderkey = l.orderkey\n",
    "LEFT JOIN \n",
    "    customer c ON o.o_custkey = c.c_custkey\n",
    "LEFT JOIN\n",
    "    nation n ON c.c_nationkey = n.n_nationkey;"
   ]
  },
  {
   "cell_type": "code",
   "execution_count": null,
   "id": "41190839-57ab-432c-b156-c341be2cc1db",
   "metadata": {},
   "outputs": [],
   "source": [
    "# exercise: Sort ARRAY of lineitems, how is it sorted? What do you think is the sort order based on?"
   ]
  },
  {
   "cell_type": "code",
   "execution_count": null,
   "id": "f9e4c988-497a-42fe-b018-4d4515facc7d",
   "metadata": {},
   "outputs": [],
   "source": [
    "%%sql\n",
    "SELECT \n",
    "    o.*, \n",
    "    array_sort(o.lineitems) AS sorted_lineitems, \n",
    "    o.customer \n",
    "FROM \n",
    "    wide_orders o\n",
    "LIMIT 5;"
   ]
  },
  {
   "cell_type": "markdown",
   "id": "d3246172-414d-407e-810e-6bb71cf80684",
   "metadata": {},
   "source": [
    "we can use the array_sort function in DuckDB. This function sorts the array based on the lexicographic ordering of the elements within each struct, which means it **starts sorting by the first field in the struct, and if they are equal, it moves to the next field**.\n",
    "\n",
    "In our case, the lineitems array contains multiple fields (like lineitemkey, partkey, suppkey, etc.). The sort order will be based on the first field listed within each struct_pack, which in this case is lineitemkey. DuckDB will sort the lineitems array based on this key unless otherwise specified."
   ]
  },
  {
   "cell_type": "markdown",
   "id": "a8926ab2-69a6-4c27-80ea-266de8fb814c",
   "metadata": {},
   "source": [
    "# Exercise 3"
   ]
  },
  {
   "cell_type": "code",
   "execution_count": null,
   "id": "d377bba1-108d-4e6b-8e13-c8351d5a5080",
   "metadata": {},
   "outputs": [],
   "source": [
    "# exercise: create a wide_orders_v2 table that combines all the tables in the TPCH data model"
   ]
  },
  {
   "cell_type": "code",
   "execution_count": null,
   "id": "f8e81ea2-438d-48cc-8b0d-8a01e71af0b6",
   "metadata": {},
   "outputs": [],
   "source": [
    "%%sql\n",
    "CREATE TABLE IF NOT EXISTS wide_orders_v2 AS \n",
    "WITH line_items AS (\n",
    "    SELECT \n",
    "        l_orderkey AS orderkey,\n",
    "        array_agg(struct_pack(\n",
    "            lineitemkey := l.l_linenumber,\n",
    "            partkey := l.l_partkey,\n",
    "            suppkey := l.l_suppkey,\n",
    "            quantity := l.l_quantity,\n",
    "            extendedprice := l.l_extendedprice,\n",
    "            discount := l.l_discount,\n",
    "            tax := l.l_tax,\n",
    "            returnflag := l.l_returnflag,\n",
    "            linestatus := l.l_linestatus,\n",
    "            shipdate := l.l_shipdate,\n",
    "            commitdate := l.l_commitdate,\n",
    "            receiptdate := l.l_receiptdate,\n",
    "            shipinstruct := l.l_shipinstruct,\n",
    "            shipmode := l.l_shipmode,\n",
    "            comment := l.l_comment,\n",
    "            part := struct_pack(\n",
    "                id := p.p_partkey,\n",
    "                name := p.p_name,\n",
    "                mfgr := p.p_mfgr,\n",
    "                brand := p.p_brand,\n",
    "                type := p.p_type,\n",
    "                size := p.p_size,\n",
    "                container := p.p_container,\n",
    "                retailprice := p.p_retailprice,\n",
    "                comment := p.p_comment\n",
    "            ),\n",
    "            supplier := struct_pack(\n",
    "                id := s.s_suppkey,\n",
    "                name := s.s_name,\n",
    "                address := s.s_address,\n",
    "                nationkey := s.s_nationkey,\n",
    "                phone := s.s_phone,\n",
    "                acctbal := s.s_acctbal,\n",
    "                comment := s.s_comment,\n",
    "                nation := struct_pack(\n",
    "                    nationkey := sn.n_nationkey,\n",
    "                    name := sn.n_name,\n",
    "                    regionkey := sn.n_regionkey,\n",
    "                    comment := sn.n_comment,\n",
    "                    region := struct_pack(\n",
    "                        regionkey := sr.r_regionkey,\n",
    "                        name := sr.r_name,\n",
    "                        comment := sr.r_comment\n",
    "                    )\n",
    "                )\n",
    "            ),\n",
    "            partsupp := struct_pack(\n",
    "                partkey := ps.ps_partkey,\n",
    "                suppkey := ps.ps_suppkey,\n",
    "                availqty := ps.ps_availqty,\n",
    "                supplycost := ps.ps_supplycost,\n",
    "                comment := ps.ps_comment\n",
    "            )\n",
    "        )) AS lineitems\n",
    "    FROM \n",
    "        lineitem l\n",
    "    LEFT JOIN \n",
    "        part p ON l.l_partkey = p.p_partkey\n",
    "    LEFT JOIN \n",
    "        supplier s ON l.l_suppkey = s.s_suppkey\n",
    "    LEFT JOIN \n",
    "        nation sn ON s.s_nationkey = sn.n_nationkey\n",
    "    LEFT JOIN \n",
    "        region sr ON sn.n_regionkey = sr.r_regionkey\n",
    "    LEFT JOIN \n",
    "        partsupp ps ON l.l_partkey = ps.ps_partkey AND l.l_suppkey = ps.ps_suppkey\n",
    "    GROUP BY \n",
    "        l.l_orderkey\n",
    ")\n",
    "SELECT \n",
    "    o.*,\n",
    "    l.lineitems,\n",
    "    struct_pack(\n",
    "        id := c.c_custkey,\n",
    "        name := c.c_name,\n",
    "        address := c.c_address,\n",
    "        nationkey := c.c_nationkey,\n",
    "        phone := c.c_phone,\n",
    "        acctbal := c.c_acctbal,\n",
    "        mktsegment := c.c_mktsegment,\n",
    "        comment := c.c_comment,\n",
    "        nation := struct_pack(\n",
    "            nationkey := n.n_nationkey,\n",
    "            name := n.n_name,\n",
    "            regionkey := n.n_regionkey,\n",
    "            comment := n.n_comment,\n",
    "            region := struct_pack(\n",
    "                regionkey := r.r_regionkey,\n",
    "                name := r.r_name,\n",
    "                comment := r.r_comment\n",
    "            )\n",
    "        )\n",
    "    ) AS customer\n",
    "FROM \n",
    "    orders o\n",
    "LEFT JOIN \n",
    "    line_items l ON o.o_orderkey = l.orderkey\n",
    "LEFT JOIN \n",
    "    customer c ON o.o_custkey = c.c_custkey\n",
    "LEFT JOIN \n",
    "    nation n ON c.c_nationkey = n.n_nationkey\n",
    "LEFT JOIN \n",
    "    region r ON n.n_regionkey = r.r_regionkey;\n"
   ]
  },
  {
   "cell_type": "code",
   "execution_count": null,
   "id": "8d19d952-96b7-4c76-8d60-254ab3b48f8c",
   "metadata": {},
   "outputs": [],
   "source": [
    "%%sql\n",
    "select * from wide_orders_v2 limit 1;"
   ]
  }
 ],
 "metadata": {
  "kernelspec": {
   "display_name": "Python 3 (ipykernel)",
   "language": "python",
   "name": "python3"
  },
  "language_info": {
   "codemirror_mode": {
    "name": "ipython",
    "version": 3
   },
   "file_extension": ".py",
   "mimetype": "text/x-python",
   "name": "python",
   "nbconvert_exporter": "python",
   "pygments_lexer": "ipython3",
   "version": "3.12.4"
  }
 },
 "nbformat": 4,
 "nbformat_minor": 5
}
