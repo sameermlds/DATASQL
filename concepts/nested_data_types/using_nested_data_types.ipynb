{
 "cells": [
  {
   "cell_type": "markdown",
   "id": "2b315679-3113-427b-a911-75c225cd8a2a",
   "metadata": {},
   "source": [
    "### Code for the blog **[How to use nested data types effectively in SQL](https://www.startdataengineering.com/post/use-structs-sql/)**"
   ]
  },
  {
   "cell_type": "markdown",
   "id": "7f4fded1-5f6f-439d-a2ce-f59abf2ff43a",
   "metadata": {},
   "source": [
    "# [SETUP] "
   ]
  },
  {
   "cell_type": "code",
   "execution_count": 2,
   "id": "118da67e-aa4e-45f3-9ca7-b66cd237fde1",
   "metadata": {},
   "outputs": [
    {
     "name": "stdout",
     "output_type": "stream",
     "text": [
      "Cleaning up (if any existing) tpch db file tpch.db\n",
      "Creating TPCH input data at tpch.db\n"
     ]
    }
   ],
   "source": [
    "! python ./setup.py"
   ]
  },
  {
   "cell_type": "markdown",
   "id": "dbcfd5db-87dc-4629-9c25-dd5d9ee8e48c",
   "metadata": {},
   "source": [
    "## Connect to DuckDB"
   ]
  },
  {
   "cell_type": "code",
   "execution_count": 3,
   "id": "38db11b5-5d42-4105-b021-e6a66ec00fcd",
   "metadata": {},
   "outputs": [
    {
     "name": "stdout",
     "output_type": "stream",
     "text": [
      "There's a new jupysql version available (0.10.14), you're running 0.10.12. To upgrade: pip install jupysql --upgrade\n",
      "Deploy Streamlit apps for free on Ploomber Cloud! Learn more: https://ploomber.io/s/signup\n"
     ]
    }
   ],
   "source": [
    "import duckdb\n",
    "import pandas as pd\n",
    "\n",
    "%load_ext sql\n",
    "conn = duckdb.connect(\"tpch.db\")\n",
    "%sql conn --alias duckdb"
   ]
  },
  {
   "cell_type": "code",
   "execution_count": 4,
   "id": "e7b0cd41-ae3a-48be-90a8-4864bc8695f3",
   "metadata": {},
   "outputs": [
    {
     "data": {
      "text/html": [
       "<span style=\"None\">Running query in &#x27;duckdb&#x27;</span>"
      ],
      "text/plain": [
       "Running query in 'duckdb'"
      ]
     },
     "metadata": {},
     "output_type": "display_data"
    },
    {
     "data": {
      "text/html": [
       "<table>\n",
       "    <thead>\n",
       "        <tr>\n",
       "            <th>name</th>\n",
       "        </tr>\n",
       "    </thead>\n",
       "    <tbody>\n",
       "        <tr>\n",
       "            <td>customer</td>\n",
       "        </tr>\n",
       "        <tr>\n",
       "            <td>lineitem</td>\n",
       "        </tr>\n",
       "        <tr>\n",
       "            <td>nation</td>\n",
       "        </tr>\n",
       "        <tr>\n",
       "            <td>orders</td>\n",
       "        </tr>\n",
       "        <tr>\n",
       "            <td>part</td>\n",
       "        </tr>\n",
       "        <tr>\n",
       "            <td>partsupp</td>\n",
       "        </tr>\n",
       "        <tr>\n",
       "            <td>region</td>\n",
       "        </tr>\n",
       "        <tr>\n",
       "            <td>supplier</td>\n",
       "        </tr>\n",
       "    </tbody>\n",
       "</table>"
      ],
      "text/plain": [
       "+----------+\n",
       "|   name   |\n",
       "+----------+\n",
       "| customer |\n",
       "| lineitem |\n",
       "|  nation  |\n",
       "|  orders  |\n",
       "|   part   |\n",
       "| partsupp |\n",
       "|  region  |\n",
       "| supplier |\n",
       "+----------+"
      ]
     },
     "execution_count": 4,
     "metadata": {},
     "output_type": "execute_result"
    }
   ],
   "source": [
    "%%sql\n",
    "show tables;"
   ]
  },
  {
   "cell_type": "markdown",
   "id": "9bfae6b7-11f9-4c06-84ca-d8964cc03640",
   "metadata": {},
   "source": [
    "# [Data Model]\n",
    "\n",
    "The TPC-H data represents a car parts seller’s data warehouse, where we record orders, items that make up that order (lineitem), supplier, customer, part (parts sold), region, nation, and partsupp (parts supplier). \n",
    "\n",
    "Note: Have a copy of the data model as you follow along; this will help in understanding the examples provided and in answering exercise questions.\n",
    "\n",
    "![](../../tpch_erd.png)\n"
   ]
  },
  {
   "cell_type": "markdown",
   "id": "95c802a9-9568-4684-b2e5-939025aef734",
   "metadata": {},
   "source": [
    "# Using nested data types effectively"
   ]
  },
  {
   "cell_type": "markdown",
   "id": "7bb51b45-5110-47b5-852b-b91238161f0c",
   "metadata": {},
   "source": [
    "##  Use STRUCT for one-to-one & hierarchical relationships"
   ]
  },
  {
   "cell_type": "code",
   "execution_count": 5,
   "id": "a6f5c7bc-163a-46c1-abf7-44f989fd9ce4",
   "metadata": {},
   "outputs": [
    {
     "data": {
      "text/html": [
       "<span style=\"None\">Running query in &#x27;duckdb&#x27;</span>"
      ],
      "text/plain": [
       "Running query in 'duckdb'"
      ]
     },
     "metadata": {},
     "output_type": "display_data"
    },
    {
     "data": {
      "text/html": [
       "<table>\n",
       "    <thead>\n",
       "        <tr>\n",
       "            <th>l_orderkey</th>\n",
       "            <th>l_partkey</th>\n",
       "            <th>l_suppkey</th>\n",
       "            <th>l_linenumber</th>\n",
       "            <th>l_quantity</th>\n",
       "            <th>l_extendedprice</th>\n",
       "            <th>l_discount</th>\n",
       "            <th>l_tax</th>\n",
       "            <th>l_returnflag</th>\n",
       "            <th>l_linestatus</th>\n",
       "            <th>l_shipdate</th>\n",
       "            <th>l_commitdate</th>\n",
       "            <th>l_receiptdate</th>\n",
       "            <th>l_shipinstruct</th>\n",
       "            <th>l_shipmode</th>\n",
       "            <th>l_comment</th>\n",
       "            <th>c_custkey</th>\n",
       "            <th>c_name</th>\n",
       "            <th>c_address</th>\n",
       "            <th>c_nationkey</th>\n",
       "            <th>c_phone</th>\n",
       "            <th>c_acctbal</th>\n",
       "            <th>c_mktsegment</th>\n",
       "            <th>c_comment</th>\n",
       "            <th>s_suppkey</th>\n",
       "            <th>s_name</th>\n",
       "            <th>s_address</th>\n",
       "            <th>s_nationkey</th>\n",
       "            <th>s_phone</th>\n",
       "            <th>s_acctbal</th>\n",
       "            <th>s_comment</th>\n",
       "        </tr>\n",
       "    </thead>\n",
       "    <tbody>\n",
       "        <tr>\n",
       "            <td>1</td>\n",
       "            <td>1552</td>\n",
       "            <td>93</td>\n",
       "            <td>1</td>\n",
       "            <td>17.00</td>\n",
       "            <td>24710.35</td>\n",
       "            <td>0.04</td>\n",
       "            <td>0.02</td>\n",
       "            <td>N</td>\n",
       "            <td>O</td>\n",
       "            <td>1996-03-13</td>\n",
       "            <td>1996-02-12</td>\n",
       "            <td>1996-03-22</td>\n",
       "            <td>DELIVER IN PERSON</td>\n",
       "            <td>TRUCK</td>\n",
       "            <td>to beans x-ray carefull</td>\n",
       "            <td>370</td>\n",
       "            <td>Customer#000000370</td>\n",
       "            <td>DtqbDO5rid</td>\n",
       "            <td>12</td>\n",
       "            <td>22-524-280-8721</td>\n",
       "            <td>8982.79</td>\n",
       "            <td>FURNITURE</td>\n",
       "            <td>nstructions. furious requests across the ironic</td>\n",
       "            <td>93</td>\n",
       "            <td>Supplier#000000093</td>\n",
       "            <td>wNZNHIg370XspE</td>\n",
       "            <td>16</td>\n",
       "            <td>26-528-528-1157</td>\n",
       "            <td>368.76</td>\n",
       "            <td>instructions mold slyly special dolphins. quickly regular instru</td>\n",
       "        </tr>\n",
       "        <tr>\n",
       "            <td>1</td>\n",
       "            <td>674</td>\n",
       "            <td>75</td>\n",
       "            <td>2</td>\n",
       "            <td>36.00</td>\n",
       "            <td>56688.12</td>\n",
       "            <td>0.09</td>\n",
       "            <td>0.06</td>\n",
       "            <td>N</td>\n",
       "            <td>O</td>\n",
       "            <td>1996-04-12</td>\n",
       "            <td>1996-02-28</td>\n",
       "            <td>1996-04-20</td>\n",
       "            <td>TAKE BACK RETURN</td>\n",
       "            <td>MAIL</td>\n",
       "            <td> according to the final foxes. qui</td>\n",
       "            <td>370</td>\n",
       "            <td>Customer#000000370</td>\n",
       "            <td>DtqbDO5rid</td>\n",
       "            <td>12</td>\n",
       "            <td>22-524-280-8721</td>\n",
       "            <td>8982.79</td>\n",
       "            <td>FURNITURE</td>\n",
       "            <td>nstructions. furious requests across the ironic</td>\n",
       "            <td>75</td>\n",
       "            <td>Supplier#000000075</td>\n",
       "            <td>ULXKdX bZFJwii</td>\n",
       "            <td>18</td>\n",
       "            <td>28-716-704-8686</td>\n",
       "            <td>-224.84</td>\n",
       "            <td>platelets cajole. sentiments </td>\n",
       "        </tr>\n",
       "        <tr>\n",
       "            <td>1</td>\n",
       "            <td>637</td>\n",
       "            <td>38</td>\n",
       "            <td>3</td>\n",
       "            <td>8.00</td>\n",
       "            <td>12301.04</td>\n",
       "            <td>0.10</td>\n",
       "            <td>0.02</td>\n",
       "            <td>N</td>\n",
       "            <td>O</td>\n",
       "            <td>1996-01-29</td>\n",
       "            <td>1996-03-05</td>\n",
       "            <td>1996-01-31</td>\n",
       "            <td>TAKE BACK RETURN</td>\n",
       "            <td>REG AIR</td>\n",
       "            <td>ourts cajole above the furiou</td>\n",
       "            <td>370</td>\n",
       "            <td>Customer#000000370</td>\n",
       "            <td>DtqbDO5rid</td>\n",
       "            <td>12</td>\n",
       "            <td>22-524-280-8721</td>\n",
       "            <td>8982.79</td>\n",
       "            <td>FURNITURE</td>\n",
       "            <td>nstructions. furious requests across the ironic</td>\n",
       "            <td>38</td>\n",
       "            <td>Supplier#000000038</td>\n",
       "            <td>vmOuWWwn,l4j7TOSEw4l3</td>\n",
       "            <td>4</td>\n",
       "            <td>14-361-296-6426</td>\n",
       "            <td>2512.41</td>\n",
       "            <td>inst the slyly final pinto beans. carefully un</td>\n",
       "        </tr>\n",
       "        <tr>\n",
       "            <td>1</td>\n",
       "            <td>22</td>\n",
       "            <td>48</td>\n",
       "            <td>4</td>\n",
       "            <td>28.00</td>\n",
       "            <td>25816.56</td>\n",
       "            <td>0.09</td>\n",
       "            <td>0.06</td>\n",
       "            <td>N</td>\n",
       "            <td>O</td>\n",
       "            <td>1996-04-21</td>\n",
       "            <td>1996-03-30</td>\n",
       "            <td>1996-05-16</td>\n",
       "            <td>NONE</td>\n",
       "            <td>AIR</td>\n",
       "            <td>s cajole busily above t</td>\n",
       "            <td>370</td>\n",
       "            <td>Customer#000000370</td>\n",
       "            <td>DtqbDO5rid</td>\n",
       "            <td>12</td>\n",
       "            <td>22-524-280-8721</td>\n",
       "            <td>8982.79</td>\n",
       "            <td>FURNITURE</td>\n",
       "            <td>nstructions. furious requests across the ironic</td>\n",
       "            <td>48</td>\n",
       "            <td>Supplier#000000048</td>\n",
       "            <td>IK,6rmdbeaoxtxgx7Df34QfLX5FUcyddqUEbF4h</td>\n",
       "            <td>14</td>\n",
       "            <td>24-722-551-9498</td>\n",
       "            <td>5630.62</td>\n",
       "            <td>ecial excuses detect blithely. slyly regular requests </td>\n",
       "        </tr>\n",
       "        <tr>\n",
       "            <td>1</td>\n",
       "            <td>241</td>\n",
       "            <td>23</td>\n",
       "            <td>5</td>\n",
       "            <td>24.00</td>\n",
       "            <td>27389.76</td>\n",
       "            <td>0.10</td>\n",
       "            <td>0.04</td>\n",
       "            <td>N</td>\n",
       "            <td>O</td>\n",
       "            <td>1996-03-30</td>\n",
       "            <td>1996-03-14</td>\n",
       "            <td>1996-04-01</td>\n",
       "            <td>NONE</td>\n",
       "            <td>FOB</td>\n",
       "            <td> the regular, regular pa</td>\n",
       "            <td>370</td>\n",
       "            <td>Customer#000000370</td>\n",
       "            <td>DtqbDO5rid</td>\n",
       "            <td>12</td>\n",
       "            <td>22-524-280-8721</td>\n",
       "            <td>8982.79</td>\n",
       "            <td>FURNITURE</td>\n",
       "            <td>nstructions. furious requests across the ironic</td>\n",
       "            <td>23</td>\n",
       "            <td>Supplier#000000023</td>\n",
       "            <td> zMyxL7O3O0SUAFoTrY7gVO mnM8XsH</td>\n",
       "            <td>9</td>\n",
       "            <td>19-559-422-5776</td>\n",
       "            <td>5926.41</td>\n",
       "            <td>sual asymptotes affix quickly at the instructions. deposits </td>\n",
       "        </tr>\n",
       "    </tbody>\n",
       "</table>"
      ],
      "text/plain": [
       "+------------+-----------+-----------+--------------+------------+-----------------+------------+-------+--------------+--------------+------------+--------------+---------------+-------------------+------------+------------------------------------+-----------+--------------------+------------+-------------+-----------------+-----------+--------------+-------------------------------------------------+-----------+--------------------+-----------------------------------------+-------------+-----------------+-----------+------------------------------------------------------------------+\n",
       "| l_orderkey | l_partkey | l_suppkey | l_linenumber | l_quantity | l_extendedprice | l_discount | l_tax | l_returnflag | l_linestatus | l_shipdate | l_commitdate | l_receiptdate |   l_shipinstruct  | l_shipmode |             l_comment              | c_custkey |       c_name       | c_address  | c_nationkey |     c_phone     | c_acctbal | c_mktsegment |                    c_comment                    | s_suppkey |       s_name       |                s_address                | s_nationkey |     s_phone     | s_acctbal |                            s_comment                             |\n",
       "+------------+-----------+-----------+--------------+------------+-----------------+------------+-------+--------------+--------------+------------+--------------+---------------+-------------------+------------+------------------------------------+-----------+--------------------+------------+-------------+-----------------+-----------+--------------+-------------------------------------------------+-----------+--------------------+-----------------------------------------+-------------+-----------------+-----------+------------------------------------------------------------------+\n",
       "|     1      |    1552   |     93    |      1       |   17.00    |     24710.35    |    0.04    |  0.02 |      N       |      O       | 1996-03-13 |  1996-02-12  |   1996-03-22  | DELIVER IN PERSON |   TRUCK    |      to beans x-ray carefull       |    370    | Customer#000000370 | DtqbDO5rid |      12     | 22-524-280-8721 |  8982.79  |  FURNITURE   | nstructions. furious requests across the ironic |     93    | Supplier#000000093 |              wNZNHIg370XspE             |      16     | 26-528-528-1157 |   368.76  | instructions mold slyly special dolphins. quickly regular instru |\n",
       "|     1      |    674    |     75    |      2       |   36.00    |     56688.12    |    0.09    |  0.06 |      N       |      O       | 1996-04-12 |  1996-02-28  |   1996-04-20  |  TAKE BACK RETURN |    MAIL    |  according to the final foxes. qui |    370    | Customer#000000370 | DtqbDO5rid |      12     | 22-524-280-8721 |  8982.79  |  FURNITURE   | nstructions. furious requests across the ironic |     75    | Supplier#000000075 |              ULXKdX bZFJwii             |      18     | 28-716-704-8686 |  -224.84  |                  platelets cajole. sentiments                    |\n",
       "|     1      |    637    |     38    |      3       |    8.00    |     12301.04    |    0.10    |  0.02 |      N       |      O       | 1996-01-29 |  1996-03-05  |   1996-01-31  |  TAKE BACK RETURN |  REG AIR   |   ourts cajole above the furiou    |    370    | Customer#000000370 | DtqbDO5rid |      12     | 22-524-280-8721 |  8982.79  |  FURNITURE   | nstructions. furious requests across the ironic |     38    | Supplier#000000038 |          vmOuWWwn,l4j7TOSEw4l3          |      4      | 14-361-296-6426 |  2512.41  |          inst the slyly final pinto beans. carefully un          |\n",
       "|     1      |     22    |     48    |      4       |   28.00    |     25816.56    |    0.09    |  0.06 |      N       |      O       | 1996-04-21 |  1996-03-30  |   1996-05-16  |        NONE       |    AIR     |      s cajole busily above t       |    370    | Customer#000000370 | DtqbDO5rid |      12     | 22-524-280-8721 |  8982.79  |  FURNITURE   | nstructions. furious requests across the ironic |     48    | Supplier#000000048 | IK,6rmdbeaoxtxgx7Df34QfLX5FUcyddqUEbF4h |      14     | 24-722-551-9498 |  5630.62  |      ecial excuses detect blithely. slyly regular requests       |\n",
       "|     1      |    241    |     23    |      5       |   24.00    |     27389.76    |    0.10    |  0.04 |      N       |      O       | 1996-03-30 |  1996-03-14  |   1996-04-01  |        NONE       |    FOB     |       the regular, regular pa      |    370    | Customer#000000370 | DtqbDO5rid |      12     | 22-524-280-8721 |  8982.79  |  FURNITURE   | nstructions. furious requests across the ironic |     23    | Supplier#000000023 |      zMyxL7O3O0SUAFoTrY7gVO mnM8XsH     |      9      | 19-559-422-5776 |  5926.41  |   sual asymptotes affix quickly at the instructions. deposits    |\n",
       "+------------+-----------+-----------+--------------+------------+-----------------+------------+-------+--------------+--------------+------------+--------------+---------------+-------------------+------------+------------------------------------+-----------+--------------------+------------+-------------+-----------------+-----------+--------------+-------------------------------------------------+-----------+--------------------+-----------------------------------------+-------------+-----------------+-----------+------------------------------------------------------------------+"
      ]
     },
     "execution_count": 5,
     "metadata": {},
     "output_type": "execute_result"
    }
   ],
   "source": [
    "%%sql\n",
    "-- without nested data type\n",
    "SELECT l.*,\n",
    "c.*,\n",
    "s.*\n",
    "FROM \n",
    "    lineitem l\n",
    "LEFT JOIN \n",
    "    orders o ON l.l_orderkey = o.o_orderkey\n",
    "LEFT JOIN \n",
    "    customer c ON o.o_custkey = c.c_custkey\n",
    "LEFT JOIN \n",
    "    supplier s ON l.l_suppkey = s.s_suppkey\n",
    "LIMIT 5;"
   ]
  },
  {
   "cell_type": "markdown",
   "id": "a82b575b-28bf-45e9-bce2-5282d1a17982",
   "metadata": {},
   "source": [
    "![Cols to struct](./images/col-struct.png)"
   ]
  },
  {
   "cell_type": "code",
   "execution_count": 6,
   "id": "dcec6c15-53be-4c15-ad18-f76f4367624c",
   "metadata": {},
   "outputs": [
    {
     "data": {
      "text/html": [
       "<span style=\"None\">Running query in &#x27;duckdb&#x27;</span>"
      ],
      "text/plain": [
       "Running query in 'duckdb'"
      ]
     },
     "metadata": {},
     "output_type": "display_data"
    },
    {
     "data": {
      "text/html": [
       "<table>\n",
       "    <thead>\n",
       "        <tr>\n",
       "            <th>l_orderkey</th>\n",
       "            <th>l_partkey</th>\n",
       "            <th>l_suppkey</th>\n",
       "            <th>l_linenumber</th>\n",
       "            <th>l_quantity</th>\n",
       "            <th>l_extendedprice</th>\n",
       "            <th>l_discount</th>\n",
       "            <th>l_tax</th>\n",
       "            <th>l_returnflag</th>\n",
       "            <th>l_linestatus</th>\n",
       "            <th>l_shipdate</th>\n",
       "            <th>l_commitdate</th>\n",
       "            <th>l_receiptdate</th>\n",
       "            <th>l_shipinstruct</th>\n",
       "            <th>l_shipmode</th>\n",
       "            <th>l_comment</th>\n",
       "            <th>customer</th>\n",
       "            <th>supplier</th>\n",
       "        </tr>\n",
       "    </thead>\n",
       "    <tbody>\n",
       "        <tr>\n",
       "            <td>1</td>\n",
       "            <td>1552</td>\n",
       "            <td>93</td>\n",
       "            <td>1</td>\n",
       "            <td>17.00</td>\n",
       "            <td>24710.35</td>\n",
       "            <td>0.04</td>\n",
       "            <td>0.02</td>\n",
       "            <td>N</td>\n",
       "            <td>O</td>\n",
       "            <td>1996-03-13</td>\n",
       "            <td>1996-02-12</td>\n",
       "            <td>1996-03-22</td>\n",
       "            <td>DELIVER IN PERSON</td>\n",
       "            <td>TRUCK</td>\n",
       "            <td>to beans x-ray carefull</td>\n",
       "            <td>{'id': 370, 'name': 'Customer#000000370', 'address': 'DtqbDO5rid', 'nationkey': 12, 'phone': '22-524-280-8721', 'acctbal': Decimal('8982.79'), 'mktsegment': 'FURNITURE', 'comment': 'nstructions. furious requests across the ironic'}</td>\n",
       "            <td>{'id': 93, 'name': 'Supplier#000000093', 'address': 'wNZNHIg370XspE', 'nationkey': 16, 'phone': '26-528-528-1157', 'acctbal': Decimal('368.76'), 'comment': 'instructions mold slyly special dolphins. quickly regular instru'}</td>\n",
       "        </tr>\n",
       "        <tr>\n",
       "            <td>1</td>\n",
       "            <td>674</td>\n",
       "            <td>75</td>\n",
       "            <td>2</td>\n",
       "            <td>36.00</td>\n",
       "            <td>56688.12</td>\n",
       "            <td>0.09</td>\n",
       "            <td>0.06</td>\n",
       "            <td>N</td>\n",
       "            <td>O</td>\n",
       "            <td>1996-04-12</td>\n",
       "            <td>1996-02-28</td>\n",
       "            <td>1996-04-20</td>\n",
       "            <td>TAKE BACK RETURN</td>\n",
       "            <td>MAIL</td>\n",
       "            <td> according to the final foxes. qui</td>\n",
       "            <td>{'id': 370, 'name': 'Customer#000000370', 'address': 'DtqbDO5rid', 'nationkey': 12, 'phone': '22-524-280-8721', 'acctbal': Decimal('8982.79'), 'mktsegment': 'FURNITURE', 'comment': 'nstructions. furious requests across the ironic'}</td>\n",
       "            <td>{'id': 75, 'name': 'Supplier#000000075', 'address': 'ULXKdX bZFJwii', 'nationkey': 18, 'phone': '28-716-704-8686', 'acctbal': Decimal('-224.84'), 'comment': 'platelets cajole. sentiments '}</td>\n",
       "        </tr>\n",
       "        <tr>\n",
       "            <td>1</td>\n",
       "            <td>637</td>\n",
       "            <td>38</td>\n",
       "            <td>3</td>\n",
       "            <td>8.00</td>\n",
       "            <td>12301.04</td>\n",
       "            <td>0.10</td>\n",
       "            <td>0.02</td>\n",
       "            <td>N</td>\n",
       "            <td>O</td>\n",
       "            <td>1996-01-29</td>\n",
       "            <td>1996-03-05</td>\n",
       "            <td>1996-01-31</td>\n",
       "            <td>TAKE BACK RETURN</td>\n",
       "            <td>REG AIR</td>\n",
       "            <td>ourts cajole above the furiou</td>\n",
       "            <td>{'id': 370, 'name': 'Customer#000000370', 'address': 'DtqbDO5rid', 'nationkey': 12, 'phone': '22-524-280-8721', 'acctbal': Decimal('8982.79'), 'mktsegment': 'FURNITURE', 'comment': 'nstructions. furious requests across the ironic'}</td>\n",
       "            <td>{'id': 38, 'name': 'Supplier#000000038', 'address': 'vmOuWWwn,l4j7TOSEw4l3', 'nationkey': 4, 'phone': '14-361-296-6426', 'acctbal': Decimal('2512.41'), 'comment': 'inst the slyly final pinto beans. carefully un'}</td>\n",
       "        </tr>\n",
       "        <tr>\n",
       "            <td>1</td>\n",
       "            <td>22</td>\n",
       "            <td>48</td>\n",
       "            <td>4</td>\n",
       "            <td>28.00</td>\n",
       "            <td>25816.56</td>\n",
       "            <td>0.09</td>\n",
       "            <td>0.06</td>\n",
       "            <td>N</td>\n",
       "            <td>O</td>\n",
       "            <td>1996-04-21</td>\n",
       "            <td>1996-03-30</td>\n",
       "            <td>1996-05-16</td>\n",
       "            <td>NONE</td>\n",
       "            <td>AIR</td>\n",
       "            <td>s cajole busily above t</td>\n",
       "            <td>{'id': 370, 'name': 'Customer#000000370', 'address': 'DtqbDO5rid', 'nationkey': 12, 'phone': '22-524-280-8721', 'acctbal': Decimal('8982.79'), 'mktsegment': 'FURNITURE', 'comment': 'nstructions. furious requests across the ironic'}</td>\n",
       "            <td>{'id': 48, 'name': 'Supplier#000000048', 'address': 'IK,6rmdbeaoxtxgx7Df34QfLX5FUcyddqUEbF4h', 'nationkey': 14, 'phone': '24-722-551-9498', 'acctbal': Decimal('5630.62'), 'comment': 'ecial excuses detect blithely. slyly regular requests '}</td>\n",
       "        </tr>\n",
       "        <tr>\n",
       "            <td>1</td>\n",
       "            <td>241</td>\n",
       "            <td>23</td>\n",
       "            <td>5</td>\n",
       "            <td>24.00</td>\n",
       "            <td>27389.76</td>\n",
       "            <td>0.10</td>\n",
       "            <td>0.04</td>\n",
       "            <td>N</td>\n",
       "            <td>O</td>\n",
       "            <td>1996-03-30</td>\n",
       "            <td>1996-03-14</td>\n",
       "            <td>1996-04-01</td>\n",
       "            <td>NONE</td>\n",
       "            <td>FOB</td>\n",
       "            <td> the regular, regular pa</td>\n",
       "            <td>{'id': 370, 'name': 'Customer#000000370', 'address': 'DtqbDO5rid', 'nationkey': 12, 'phone': '22-524-280-8721', 'acctbal': Decimal('8982.79'), 'mktsegment': 'FURNITURE', 'comment': 'nstructions. furious requests across the ironic'}</td>\n",
       "            <td>{'id': 23, 'name': 'Supplier#000000023', 'address': ' zMyxL7O3O0SUAFoTrY7gVO mnM8XsH', 'nationkey': 9, 'phone': '19-559-422-5776', 'acctbal': Decimal('5926.41'), 'comment': 'sual asymptotes affix quickly at the instructions. deposits '}</td>\n",
       "        </tr>\n",
       "    </tbody>\n",
       "</table>"
      ],
      "text/plain": [
       "+------------+-----------+-----------+--------------+------------+-----------------+------------+-------+--------------+--------------+------------+--------------+---------------+-------------------+------------+------------------------------------+-----------------------------------------------------------------------------------------------------------------------------------------------------------------------------------------------------------------------------------------+-------------------------------------------------------------------------------------------------------------------------------------------------------------------------------------------------------------------------------------------------+\n",
       "| l_orderkey | l_partkey | l_suppkey | l_linenumber | l_quantity | l_extendedprice | l_discount | l_tax | l_returnflag | l_linestatus | l_shipdate | l_commitdate | l_receiptdate |   l_shipinstruct  | l_shipmode |             l_comment              |                                                                                                                 customer                                                                                                                |                                                                                                                     supplier                                                                                                                    |\n",
       "+------------+-----------+-----------+--------------+------------+-----------------+------------+-------+--------------+--------------+------------+--------------+---------------+-------------------+------------+------------------------------------+-----------------------------------------------------------------------------------------------------------------------------------------------------------------------------------------------------------------------------------------+-------------------------------------------------------------------------------------------------------------------------------------------------------------------------------------------------------------------------------------------------+\n",
       "|     1      |    1552   |     93    |      1       |   17.00    |     24710.35    |    0.04    |  0.02 |      N       |      O       | 1996-03-13 |  1996-02-12  |   1996-03-22  | DELIVER IN PERSON |   TRUCK    |      to beans x-ray carefull       | {'id': 370, 'name': 'Customer#000000370', 'address': 'DtqbDO5rid', 'nationkey': 12, 'phone': '22-524-280-8721', 'acctbal': Decimal('8982.79'), 'mktsegment': 'FURNITURE', 'comment': 'nstructions. furious requests across the ironic'} |         {'id': 93, 'name': 'Supplier#000000093', 'address': 'wNZNHIg370XspE', 'nationkey': 16, 'phone': '26-528-528-1157', 'acctbal': Decimal('368.76'), 'comment': 'instructions mold slyly special dolphins. quickly regular instru'}         |\n",
       "|     1      |    674    |     75    |      2       |   36.00    |     56688.12    |    0.09    |  0.06 |      N       |      O       | 1996-04-12 |  1996-02-28  |   1996-04-20  |  TAKE BACK RETURN |    MAIL    |  according to the final foxes. qui | {'id': 370, 'name': 'Customer#000000370', 'address': 'DtqbDO5rid', 'nationkey': 12, 'phone': '22-524-280-8721', 'acctbal': Decimal('8982.79'), 'mktsegment': 'FURNITURE', 'comment': 'nstructions. furious requests across the ironic'} |                          {'id': 75, 'name': 'Supplier#000000075', 'address': 'ULXKdX bZFJwii', 'nationkey': 18, 'phone': '28-716-704-8686', 'acctbal': Decimal('-224.84'), 'comment': 'platelets cajole. sentiments '}                          |\n",
       "|     1      |    637    |     38    |      3       |    8.00    |     12301.04    |    0.10    |  0.02 |      N       |      O       | 1996-01-29 |  1996-03-05  |   1996-01-31  |  TAKE BACK RETURN |  REG AIR   |   ourts cajole above the furiou    | {'id': 370, 'name': 'Customer#000000370', 'address': 'DtqbDO5rid', 'nationkey': 12, 'phone': '22-524-280-8721', 'acctbal': Decimal('8982.79'), 'mktsegment': 'FURNITURE', 'comment': 'nstructions. furious requests across the ironic'} |               {'id': 38, 'name': 'Supplier#000000038', 'address': 'vmOuWWwn,l4j7TOSEw4l3', 'nationkey': 4, 'phone': '14-361-296-6426', 'acctbal': Decimal('2512.41'), 'comment': 'inst the slyly final pinto beans. carefully un'}              |\n",
       "|     1      |     22    |     48    |      4       |   28.00    |     25816.56    |    0.09    |  0.06 |      N       |      O       | 1996-04-21 |  1996-03-30  |   1996-05-16  |        NONE       |    AIR     |      s cajole busily above t       | {'id': 370, 'name': 'Customer#000000370', 'address': 'DtqbDO5rid', 'nationkey': 12, 'phone': '22-524-280-8721', 'acctbal': Decimal('8982.79'), 'mktsegment': 'FURNITURE', 'comment': 'nstructions. furious requests across the ironic'} | {'id': 48, 'name': 'Supplier#000000048', 'address': 'IK,6rmdbeaoxtxgx7Df34QfLX5FUcyddqUEbF4h', 'nationkey': 14, 'phone': '24-722-551-9498', 'acctbal': Decimal('5630.62'), 'comment': 'ecial excuses detect blithely. slyly regular requests '} |\n",
       "|     1      |    241    |     23    |      5       |   24.00    |     27389.76    |    0.10    |  0.04 |      N       |      O       | 1996-03-30 |  1996-03-14  |   1996-04-01  |        NONE       |    FOB     |       the regular, regular pa      | {'id': 370, 'name': 'Customer#000000370', 'address': 'DtqbDO5rid', 'nationkey': 12, 'phone': '22-524-280-8721', 'acctbal': Decimal('8982.79'), 'mktsegment': 'FURNITURE', 'comment': 'nstructions. furious requests across the ironic'} |   {'id': 23, 'name': 'Supplier#000000023', 'address': ' zMyxL7O3O0SUAFoTrY7gVO mnM8XsH', 'nationkey': 9, 'phone': '19-559-422-5776', 'acctbal': Decimal('5926.41'), 'comment': 'sual asymptotes affix quickly at the instructions. deposits '}  |\n",
       "+------------+-----------+-----------+--------------+------------+-----------------+------------+-------+--------------+--------------+------------+--------------+---------------+-------------------+------------+------------------------------------+-----------------------------------------------------------------------------------------------------------------------------------------------------------------------------------------------------------------------------------------+-------------------------------------------------------------------------------------------------------------------------------------------------------------------------------------------------------------------------------------------------+"
      ]
     },
     "execution_count": 6,
     "metadata": {},
     "output_type": "execute_result"
    }
   ],
   "source": [
    "%%sql\n",
    "-- with nested data types\n",
    "SELECT \n",
    "    l.*, \n",
    "    struct_pack(\n",
    "        id := c.c_custkey,\n",
    "        name := c.c_name,\n",
    "        address := c.c_address,\n",
    "        nationkey := c.c_nationkey,\n",
    "        phone := c.c_phone,\n",
    "        acctbal := c.c_acctbal,\n",
    "        mktsegment := c.c_mktsegment,\n",
    "        comment := c.c_comment\n",
    "    ) AS customer,\n",
    "    struct_pack(\n",
    "        id := s.s_suppkey,\n",
    "        name := s.s_name,\n",
    "        address := s.s_address,\n",
    "        nationkey := s.s_nationkey,\n",
    "        phone := s.s_phone,\n",
    "        acctbal := s.s_acctbal,\n",
    "        comment := s.s_comment\n",
    "    ) AS supplier\n",
    "FROM \n",
    "    lineitem l\n",
    "LEFT JOIN \n",
    "    orders o ON l.l_orderkey = o.o_orderkey\n",
    "LEFT JOIN \n",
    "    customer c ON o.o_custkey = c.c_custkey\n",
    "LEFT JOIN \n",
    "    supplier s ON l.l_suppkey = s.s_suppkey\n",
    "LIMIT 5;"
   ]
  },
  {
   "cell_type": "code",
   "execution_count": 7,
   "id": "aa7f083f-3d9d-4c29-8c13-822a3ef3a2d8",
   "metadata": {
    "scrolled": true
   },
   "outputs": [
    {
     "data": {
      "text/html": [
       "<span style=\"None\">Running query in &#x27;duckdb&#x27;</span>"
      ],
      "text/plain": [
       "Running query in 'duckdb'"
      ]
     },
     "metadata": {},
     "output_type": "display_data"
    },
    {
     "data": {
      "text/html": [
       "<table>\n",
       "    <thead>\n",
       "        <tr>\n",
       "            <th>l_orderkey</th>\n",
       "            <th>l_partkey</th>\n",
       "            <th>l_suppkey</th>\n",
       "            <th>l_linenumber</th>\n",
       "            <th>l_quantity</th>\n",
       "            <th>l_extendedprice</th>\n",
       "            <th>l_discount</th>\n",
       "            <th>l_tax</th>\n",
       "            <th>l_returnflag</th>\n",
       "            <th>l_linestatus</th>\n",
       "            <th>l_shipdate</th>\n",
       "            <th>l_commitdate</th>\n",
       "            <th>l_receiptdate</th>\n",
       "            <th>l_shipinstruct</th>\n",
       "            <th>l_shipmode</th>\n",
       "            <th>l_comment</th>\n",
       "            <th>customer</th>\n",
       "            <th>supplier</th>\n",
       "        </tr>\n",
       "    </thead>\n",
       "    <tbody>\n",
       "        <tr>\n",
       "            <td>1</td>\n",
       "            <td>1552</td>\n",
       "            <td>93</td>\n",
       "            <td>1</td>\n",
       "            <td>17.00</td>\n",
       "            <td>24710.35</td>\n",
       "            <td>0.04</td>\n",
       "            <td>0.02</td>\n",
       "            <td>N</td>\n",
       "            <td>O</td>\n",
       "            <td>1996-03-13</td>\n",
       "            <td>1996-02-12</td>\n",
       "            <td>1996-03-22</td>\n",
       "            <td>DELIVER IN PERSON</td>\n",
       "            <td>TRUCK</td>\n",
       "            <td>to beans x-ray carefull</td>\n",
       "            <td>{'id': 370, 'name': 'Customer#000000370', 'address': 'DtqbDO5rid', 'nationkey': 12, 'phone': '22-524-280-8721', 'acctbal': Decimal('8982.79'), 'mktsegment': 'FURNITURE', 'comment': 'nstructions. furious requests across the ironic', 'nation': {'nationkey': 12, 'name': 'JAPAN', 'regionkey': 2, 'comment': ' quickly final packages. furiously i'}}</td>\n",
       "            <td>{'id': 93, 'name': 'Supplier#000000093', 'address': 'wNZNHIg370XspE', 'nationkey': 16, 'phone': '26-528-528-1157', 'acctbal': Decimal('368.76'), 'comment': 'instructions mold slyly special dolphins. quickly regular instru', 'nation': {'nationkey': 16, 'name': 'MOZAMBIQUE', 'regionkey': 0, 'comment': ' beans after the carefully regular accounts r'}}</td>\n",
       "        </tr>\n",
       "        <tr>\n",
       "            <td>1</td>\n",
       "            <td>674</td>\n",
       "            <td>75</td>\n",
       "            <td>2</td>\n",
       "            <td>36.00</td>\n",
       "            <td>56688.12</td>\n",
       "            <td>0.09</td>\n",
       "            <td>0.06</td>\n",
       "            <td>N</td>\n",
       "            <td>O</td>\n",
       "            <td>1996-04-12</td>\n",
       "            <td>1996-02-28</td>\n",
       "            <td>1996-04-20</td>\n",
       "            <td>TAKE BACK RETURN</td>\n",
       "            <td>MAIL</td>\n",
       "            <td> according to the final foxes. qui</td>\n",
       "            <td>{'id': 370, 'name': 'Customer#000000370', 'address': 'DtqbDO5rid', 'nationkey': 12, 'phone': '22-524-280-8721', 'acctbal': Decimal('8982.79'), 'mktsegment': 'FURNITURE', 'comment': 'nstructions. furious requests across the ironic', 'nation': {'nationkey': 12, 'name': 'JAPAN', 'regionkey': 2, 'comment': ' quickly final packages. furiously i'}}</td>\n",
       "            <td>{'id': 75, 'name': 'Supplier#000000075', 'address': 'ULXKdX bZFJwii', 'nationkey': 18, 'phone': '28-716-704-8686', 'acctbal': Decimal('-224.84'), 'comment': 'platelets cajole. sentiments ', 'nation': {'nationkey': 18, 'name': 'CHINA', 'regionkey': 2, 'comment': 'ckly special packages cajole slyly. unusual, unusual theodolites mold furiously. slyly sile'}}</td>\n",
       "        </tr>\n",
       "        <tr>\n",
       "            <td>1</td>\n",
       "            <td>637</td>\n",
       "            <td>38</td>\n",
       "            <td>3</td>\n",
       "            <td>8.00</td>\n",
       "            <td>12301.04</td>\n",
       "            <td>0.10</td>\n",
       "            <td>0.02</td>\n",
       "            <td>N</td>\n",
       "            <td>O</td>\n",
       "            <td>1996-01-29</td>\n",
       "            <td>1996-03-05</td>\n",
       "            <td>1996-01-31</td>\n",
       "            <td>TAKE BACK RETURN</td>\n",
       "            <td>REG AIR</td>\n",
       "            <td>ourts cajole above the furiou</td>\n",
       "            <td>{'id': 370, 'name': 'Customer#000000370', 'address': 'DtqbDO5rid', 'nationkey': 12, 'phone': '22-524-280-8721', 'acctbal': Decimal('8982.79'), 'mktsegment': 'FURNITURE', 'comment': 'nstructions. furious requests across the ironic', 'nation': {'nationkey': 12, 'name': 'JAPAN', 'regionkey': 2, 'comment': ' quickly final packages. furiously i'}}</td>\n",
       "            <td>{'id': 38, 'name': 'Supplier#000000038', 'address': 'vmOuWWwn,l4j7TOSEw4l3', 'nationkey': 4, 'phone': '14-361-296-6426', 'acctbal': Decimal('2512.41'), 'comment': 'inst the slyly final pinto beans. carefully un', 'nation': {'nationkey': 4, 'name': 'EGYPT', 'regionkey': 4, 'comment': 'usly ironic, pending foxes. even, special instructions nag. sly, final foxes detect slyly fluffily '}}</td>\n",
       "        </tr>\n",
       "        <tr>\n",
       "            <td>1</td>\n",
       "            <td>22</td>\n",
       "            <td>48</td>\n",
       "            <td>4</td>\n",
       "            <td>28.00</td>\n",
       "            <td>25816.56</td>\n",
       "            <td>0.09</td>\n",
       "            <td>0.06</td>\n",
       "            <td>N</td>\n",
       "            <td>O</td>\n",
       "            <td>1996-04-21</td>\n",
       "            <td>1996-03-30</td>\n",
       "            <td>1996-05-16</td>\n",
       "            <td>NONE</td>\n",
       "            <td>AIR</td>\n",
       "            <td>s cajole busily above t</td>\n",
       "            <td>{'id': 370, 'name': 'Customer#000000370', 'address': 'DtqbDO5rid', 'nationkey': 12, 'phone': '22-524-280-8721', 'acctbal': Decimal('8982.79'), 'mktsegment': 'FURNITURE', 'comment': 'nstructions. furious requests across the ironic', 'nation': {'nationkey': 12, 'name': 'JAPAN', 'regionkey': 2, 'comment': ' quickly final packages. furiously i'}}</td>\n",
       "            <td>{'id': 48, 'name': 'Supplier#000000048', 'address': 'IK,6rmdbeaoxtxgx7Df34QfLX5FUcyddqUEbF4h', 'nationkey': 14, 'phone': '24-722-551-9498', 'acctbal': Decimal('5630.62'), 'comment': 'ecial excuses detect blithely. slyly regular requests ', 'nation': {'nationkey': 14, 'name': 'KENYA', 'regionkey': 0, 'comment': 'lyly special foxes. slyly regular deposits sleep carefully. carefully permanent accounts slee'}}</td>\n",
       "        </tr>\n",
       "        <tr>\n",
       "            <td>1</td>\n",
       "            <td>241</td>\n",
       "            <td>23</td>\n",
       "            <td>5</td>\n",
       "            <td>24.00</td>\n",
       "            <td>27389.76</td>\n",
       "            <td>0.10</td>\n",
       "            <td>0.04</td>\n",
       "            <td>N</td>\n",
       "            <td>O</td>\n",
       "            <td>1996-03-30</td>\n",
       "            <td>1996-03-14</td>\n",
       "            <td>1996-04-01</td>\n",
       "            <td>NONE</td>\n",
       "            <td>FOB</td>\n",
       "            <td> the regular, regular pa</td>\n",
       "            <td>{'id': 370, 'name': 'Customer#000000370', 'address': 'DtqbDO5rid', 'nationkey': 12, 'phone': '22-524-280-8721', 'acctbal': Decimal('8982.79'), 'mktsegment': 'FURNITURE', 'comment': 'nstructions. furious requests across the ironic', 'nation': {'nationkey': 12, 'name': 'JAPAN', 'regionkey': 2, 'comment': ' quickly final packages. furiously i'}}</td>\n",
       "            <td>{'id': 23, 'name': 'Supplier#000000023', 'address': ' zMyxL7O3O0SUAFoTrY7gVO mnM8XsH', 'nationkey': 9, 'phone': '19-559-422-5776', 'acctbal': Decimal('5926.41'), 'comment': 'sual asymptotes affix quickly at the instructions. deposits ', 'nation': {'nationkey': 9, 'name': 'INDONESIA', 'regionkey': 2, 'comment': 'd deposits sleep quickly according to the dogged, regular dolphins. special excuses haggle furiously special reque'}}</td>\n",
       "        </tr>\n",
       "    </tbody>\n",
       "</table>"
      ],
      "text/plain": [
       "+------------+-----------+-----------+--------------+------------+-----------------+------------+-------+--------------+--------------+------------+--------------+---------------+-------------------+------------+------------------------------------+----------------------------------------------------------------------------------------------------------------------------------------------------------------------------------------------------------------------------------------------------------------------------------------------------------------------------------------------------------+------------------------------------------------------------------------------------------------------------------------------------------------------------------------------------------------------------------------------------------------------------------------------------------------------------------------------------------------------------------------------------------------------------------------------------------------+\n",
       "| l_orderkey | l_partkey | l_suppkey | l_linenumber | l_quantity | l_extendedprice | l_discount | l_tax | l_returnflag | l_linestatus | l_shipdate | l_commitdate | l_receiptdate |   l_shipinstruct  | l_shipmode |             l_comment              |                                                                                                                                                                         customer                                                                                                                                                                         |                                                                                                                                                                                                                    supplier                                                                                                                                                                                                                    |\n",
       "+------------+-----------+-----------+--------------+------------+-----------------+------------+-------+--------------+--------------+------------+--------------+---------------+-------------------+------------+------------------------------------+----------------------------------------------------------------------------------------------------------------------------------------------------------------------------------------------------------------------------------------------------------------------------------------------------------------------------------------------------------+------------------------------------------------------------------------------------------------------------------------------------------------------------------------------------------------------------------------------------------------------------------------------------------------------------------------------------------------------------------------------------------------------------------------------------------------+\n",
       "|     1      |    1552   |     93    |      1       |   17.00    |     24710.35    |    0.04    |  0.02 |      N       |      O       | 1996-03-13 |  1996-02-12  |   1996-03-22  | DELIVER IN PERSON |   TRUCK    |      to beans x-ray carefull       | {'id': 370, 'name': 'Customer#000000370', 'address': 'DtqbDO5rid', 'nationkey': 12, 'phone': '22-524-280-8721', 'acctbal': Decimal('8982.79'), 'mktsegment': 'FURNITURE', 'comment': 'nstructions. furious requests across the ironic', 'nation': {'nationkey': 12, 'name': 'JAPAN', 'regionkey': 2, 'comment': ' quickly final packages. furiously i'}} |                                         {'id': 93, 'name': 'Supplier#000000093', 'address': 'wNZNHIg370XspE', 'nationkey': 16, 'phone': '26-528-528-1157', 'acctbal': Decimal('368.76'), 'comment': 'instructions mold slyly special dolphins. quickly regular instru', 'nation': {'nationkey': 16, 'name': 'MOZAMBIQUE', 'regionkey': 0, 'comment': ' beans after the carefully regular accounts r'}}                                         |\n",
       "|     1      |    674    |     75    |      2       |   36.00    |     56688.12    |    0.09    |  0.06 |      N       |      O       | 1996-04-12 |  1996-02-28  |   1996-04-20  |  TAKE BACK RETURN |    MAIL    |  according to the final foxes. qui | {'id': 370, 'name': 'Customer#000000370', 'address': 'DtqbDO5rid', 'nationkey': 12, 'phone': '22-524-280-8721', 'acctbal': Decimal('8982.79'), 'mktsegment': 'FURNITURE', 'comment': 'nstructions. furious requests across the ironic', 'nation': {'nationkey': 12, 'name': 'JAPAN', 'regionkey': 2, 'comment': ' quickly final packages. furiously i'}} |                                     {'id': 75, 'name': 'Supplier#000000075', 'address': 'ULXKdX bZFJwii', 'nationkey': 18, 'phone': '28-716-704-8686', 'acctbal': Decimal('-224.84'), 'comment': 'platelets cajole. sentiments ', 'nation': {'nationkey': 18, 'name': 'CHINA', 'regionkey': 2, 'comment': 'ckly special packages cajole slyly. unusual, unusual theodolites mold furiously. slyly sile'}}                                      |\n",
       "|     1      |    637    |     38    |      3       |    8.00    |     12301.04    |    0.10    |  0.02 |      N       |      O       | 1996-01-29 |  1996-03-05  |   1996-01-31  |  TAKE BACK RETURN |  REG AIR   |   ourts cajole above the furiou    | {'id': 370, 'name': 'Customer#000000370', 'address': 'DtqbDO5rid', 'nationkey': 12, 'phone': '22-524-280-8721', 'acctbal': Decimal('8982.79'), 'mktsegment': 'FURNITURE', 'comment': 'nstructions. furious requests across the ironic', 'nation': {'nationkey': 12, 'name': 'JAPAN', 'regionkey': 2, 'comment': ' quickly final packages. furiously i'}} |                      {'id': 38, 'name': 'Supplier#000000038', 'address': 'vmOuWWwn,l4j7TOSEw4l3', 'nationkey': 4, 'phone': '14-361-296-6426', 'acctbal': Decimal('2512.41'), 'comment': 'inst the slyly final pinto beans. carefully un', 'nation': {'nationkey': 4, 'name': 'EGYPT', 'regionkey': 4, 'comment': 'usly ironic, pending foxes. even, special instructions nag. sly, final foxes detect slyly fluffily '}}                       |\n",
       "|     1      |     22    |     48    |      4       |   28.00    |     25816.56    |    0.09    |  0.06 |      N       |      O       | 1996-04-21 |  1996-03-30  |   1996-05-16  |        NONE       |    AIR     |      s cajole busily above t       | {'id': 370, 'name': 'Customer#000000370', 'address': 'DtqbDO5rid', 'nationkey': 12, 'phone': '22-524-280-8721', 'acctbal': Decimal('8982.79'), 'mktsegment': 'FURNITURE', 'comment': 'nstructions. furious requests across the ironic', 'nation': {'nationkey': 12, 'name': 'JAPAN', 'regionkey': 2, 'comment': ' quickly final packages. furiously i'}} |           {'id': 48, 'name': 'Supplier#000000048', 'address': 'IK,6rmdbeaoxtxgx7Df34QfLX5FUcyddqUEbF4h', 'nationkey': 14, 'phone': '24-722-551-9498', 'acctbal': Decimal('5630.62'), 'comment': 'ecial excuses detect blithely. slyly regular requests ', 'nation': {'nationkey': 14, 'name': 'KENYA', 'regionkey': 0, 'comment': 'lyly special foxes. slyly regular deposits sleep carefully. carefully permanent accounts slee'}}            |\n",
       "|     1      |    241    |     23    |      5       |   24.00    |     27389.76    |    0.10    |  0.04 |      N       |      O       | 1996-03-30 |  1996-03-14  |   1996-04-01  |        NONE       |    FOB     |       the regular, regular pa      | {'id': 370, 'name': 'Customer#000000370', 'address': 'DtqbDO5rid', 'nationkey': 12, 'phone': '22-524-280-8721', 'acctbal': Decimal('8982.79'), 'mktsegment': 'FURNITURE', 'comment': 'nstructions. furious requests across the ironic', 'nation': {'nationkey': 12, 'name': 'JAPAN', 'regionkey': 2, 'comment': ' quickly final packages. furiously i'}} | {'id': 23, 'name': 'Supplier#000000023', 'address': ' zMyxL7O3O0SUAFoTrY7gVO mnM8XsH', 'nationkey': 9, 'phone': '19-559-422-5776', 'acctbal': Decimal('5926.41'), 'comment': 'sual asymptotes affix quickly at the instructions. deposits ', 'nation': {'nationkey': 9, 'name': 'INDONESIA', 'regionkey': 2, 'comment': 'd deposits sleep quickly according to the dogged, regular dolphins. special excuses haggle furiously special reque'}} |\n",
       "+------------+-----------+-----------+--------------+------------+-----------------+------------+-------+--------------+--------------+------------+--------------+---------------+-------------------+------------+------------------------------------+----------------------------------------------------------------------------------------------------------------------------------------------------------------------------------------------------------------------------------------------------------------------------------------------------------------------------------------------------------+------------------------------------------------------------------------------------------------------------------------------------------------------------------------------------------------------------------------------------------------------------------------------------------------------------------------------------------------------------------------------------------------------------------------------------------------+"
      ]
     },
     "execution_count": 7,
     "metadata": {},
     "output_type": "execute_result"
    }
   ],
   "source": [
    "%%sql\n",
    "-- Hierarchical data \n",
    "SELECT \n",
    "    l.*, \n",
    "    struct_pack(\n",
    "        id := c.c_custkey,\n",
    "        name := c.c_name,\n",
    "        address := c.c_address,\n",
    "        nationkey := c.c_nationkey,\n",
    "        phone := c.c_phone,\n",
    "        acctbal := c.c_acctbal,\n",
    "        mktsegment := c.c_mktsegment,\n",
    "        comment := c.c_comment,\n",
    "        nation := struct_pack(\n",
    "            nationkey := n.n_nationkey,\n",
    "            name := n.n_name,\n",
    "            regionkey := n.n_regionkey,\n",
    "            comment := n.n_comment\n",
    "        )\n",
    "    ) AS customer,\n",
    "    struct_pack(\n",
    "        id := s.s_suppkey,\n",
    "        name := s.s_name,\n",
    "        address := s.s_address,\n",
    "        nationkey := s.s_nationkey,\n",
    "        phone := s.s_phone,\n",
    "        acctbal := s.s_acctbal,\n",
    "        comment := s.s_comment,\n",
    "        nation := struct_pack(\n",
    "            nationkey := sn.n_nationkey,\n",
    "            name := sn.n_name,\n",
    "            regionkey := sn.n_regionkey,\n",
    "            comment := sn.n_comment\n",
    "            )\n",
    "    ) AS supplier\n",
    "FROM \n",
    "    lineitem l\n",
    "LEFT JOIN \n",
    "    orders o ON l.l_orderkey = o.o_orderkey\n",
    "LEFT JOIN \n",
    "    customer c ON o.o_custkey = c.c_custkey\n",
    "LEFT JOIN\n",
    "    nation n ON c.c_nationkey = n.n_nationkey\n",
    "LEFT JOIN \n",
    "    supplier s ON l.l_suppkey = s.s_suppkey\n",
    "LEFT JOIN\n",
    "    nation sn ON s.s_nationkey = sn.n_nationkey\n",
    "LIMIT 5;"
   ]
  },
  {
   "cell_type": "code",
   "execution_count": 8,
   "id": "c7f8ab0f-e858-4a9e-888b-b9b1835db26f",
   "metadata": {},
   "outputs": [],
   "source": [
    "# exercise, to the above query add region attributes"
   ]
  },
  {
   "cell_type": "markdown",
   "id": "0471c59f-ff20-4259-8d56-9cbb34f24a1e",
   "metadata": {},
   "source": [
    "## Use ARRAY[STRUCT] for one-to-many relationships"
   ]
  },
  {
   "cell_type": "markdown",
   "id": "b443a2b1-bcb7-4090-9e9d-5e070340f017",
   "metadata": {},
   "source": [
    "![Rows to List](./images/row-list.png)"
   ]
  },
  {
   "cell_type": "code",
   "execution_count": 9,
   "id": "cfa74425-6971-4e59-ba0e-99d0f7e17624",
   "metadata": {},
   "outputs": [
    {
     "data": {
      "text/html": [
       "<span style=\"None\">Running query in &#x27;duckdb&#x27;</span>"
      ],
      "text/plain": [
       "Running query in 'duckdb'"
      ]
     },
     "metadata": {},
     "output_type": "display_data"
    },
    {
     "data": {
      "text/html": [
       "<table>\n",
       "    <thead>\n",
       "        <tr>\n",
       "            <th>o_orderkey</th>\n",
       "            <th>o_custkey</th>\n",
       "            <th>o_orderstatus</th>\n",
       "            <th>o_totalprice</th>\n",
       "            <th>o_orderdate</th>\n",
       "            <th>o_orderpriority</th>\n",
       "            <th>o_clerk</th>\n",
       "            <th>o_shippriority</th>\n",
       "            <th>o_comment</th>\n",
       "            <th>num_lineitems</th>\n",
       "            <th>lineitems</th>\n",
       "        </tr>\n",
       "    </thead>\n",
       "    <tbody>\n",
       "        <tr>\n",
       "            <td>1</td>\n",
       "            <td>370</td>\n",
       "            <td>O</td>\n",
       "            <td>172799.49</td>\n",
       "            <td>1996-01-02</td>\n",
       "            <td>5-LOW</td>\n",
       "            <td>Clerk#000000951</td>\n",
       "            <td>0</td>\n",
       "            <td>ly express platelets. deposits acc</td>\n",
       "            <td>6</td>\n",
       "            <td>[{'lineitemkey': 1, 'partkey': 1552, 'suppkey': 93, 'quantity': Decimal('17.00'), 'extendedprice': Decimal('24710.35'), 'discount': Decimal('0.04'), 'tax': Decimal('0.02'), 'returnflag': 'N', 'linestatus': 'O', 'shipdate': datetime.date(1996, 3, 13), 'commitdate': datetime.date(1996, 2, 12), 'receiptdate': datetime.date(1996, 3, 22), 'shipinstruct': 'DELIVER IN PERSON', 'shipmode': 'TRUCK', 'comment': 'to beans x-ray carefull'}, {'lineitemkey': 2, 'partkey': 674, 'suppkey': 75, 'quantity': Decimal('36.00'), 'extendedprice': Decimal('56688.12'), 'discount': Decimal('0.09'), 'tax': Decimal('0.06'), 'returnflag': 'N', 'linestatus': 'O', 'shipdate': datetime.date(1996, 4, 12), 'commitdate': datetime.date(1996, 2, 28), 'receiptdate': datetime.date(1996, 4, 20), 'shipinstruct': 'TAKE BACK RETURN', 'shipmode': 'MAIL', 'comment': ' according to the final foxes. qui'}, {'lineitemkey': 3, 'partkey': 637, 'suppkey': 38, 'quantity': Decimal('8.00'), 'extendedprice': Decimal('12301.04'), 'discount': Decimal('0.10'), 'tax': Decimal('0.02'), 'returnflag': 'N', 'linestatus': 'O', 'shipdate': datetime.date(1996, 1, 29), 'commitdate': datetime.date(1996, 3, 5), 'receiptdate': datetime.date(1996, 1, 31), 'shipinstruct': 'TAKE BACK RETURN', 'shipmode': 'REG AIR', 'comment': 'ourts cajole above the furiou'}, {'lineitemkey': 4, 'partkey': 22, 'suppkey': 48, 'quantity': Decimal('28.00'), 'extendedprice': Decimal('25816.56'), 'discount': Decimal('0.09'), 'tax': Decimal('0.06'), 'returnflag': 'N', 'linestatus': 'O', 'shipdate': datetime.date(1996, 4, 21), 'commitdate': datetime.date(1996, 3, 30), 'receiptdate': datetime.date(1996, 5, 16), 'shipinstruct': 'NONE', 'shipmode': 'AIR', 'comment': 's cajole busily above t'}, {'lineitemkey': 5, 'partkey': 241, 'suppkey': 23, 'quantity': Decimal('24.00'), 'extendedprice': Decimal('27389.76'), 'discount': Decimal('0.10'), 'tax': Decimal('0.04'), 'returnflag': 'N', 'linestatus': 'O', 'shipdate': datetime.date(1996, 3, 30), 'commitdate': datetime.date(1996, 3, 14), 'receiptdate': datetime.date(1996, 4, 1), 'shipinstruct': 'NONE', 'shipmode': 'FOB', 'comment': ' the regular, regular pa'}, {'lineitemkey': 6, 'partkey': 157, 'suppkey': 10, 'quantity': Decimal('32.00'), 'extendedprice': Decimal('33828.80'), 'discount': Decimal('0.07'), 'tax': Decimal('0.02'), 'returnflag': 'N', 'linestatus': 'O', 'shipdate': datetime.date(1996, 1, 30), 'commitdate': datetime.date(1996, 2, 7), 'receiptdate': datetime.date(1996, 2, 3), 'shipinstruct': 'DELIVER IN PERSON', 'shipmode': 'MAIL', 'comment': 'rouches. special '}]</td>\n",
       "        </tr>\n",
       "        <tr>\n",
       "            <td>2</td>\n",
       "            <td>781</td>\n",
       "            <td>O</td>\n",
       "            <td>38426.09</td>\n",
       "            <td>1996-12-01</td>\n",
       "            <td>1-URGENT</td>\n",
       "            <td>Clerk#000000880</td>\n",
       "            <td>0</td>\n",
       "            <td>ve the furiously fluffy dependencies. carefully regular </td>\n",
       "            <td>1</td>\n",
       "            <td>[{'lineitemkey': 1, 'partkey': 1062, 'suppkey': 33, 'quantity': Decimal('38.00'), 'extendedprice': Decimal('36596.28'), 'discount': Decimal('0.00'), 'tax': Decimal('0.05'), 'returnflag': 'N', 'linestatus': 'O', 'shipdate': datetime.date(1997, 1, 28), 'commitdate': datetime.date(1997, 1, 14), 'receiptdate': datetime.date(1997, 2, 2), 'shipinstruct': 'TAKE BACK RETURN', 'shipmode': 'RAIL', 'comment': 're. enticingly regular instruct'}]</td>\n",
       "        </tr>\n",
       "        <tr>\n",
       "            <td>3</td>\n",
       "            <td>1234</td>\n",
       "            <td>F</td>\n",
       "            <td>205654.30</td>\n",
       "            <td>1993-10-14</td>\n",
       "            <td>5-LOW</td>\n",
       "            <td>Clerk#000000955</td>\n",
       "            <td>0</td>\n",
       "            <td> after the asymptotes. instructions cajole after the foxes. carefully unu</td>\n",
       "            <td>6</td>\n",
       "            <td>[{'lineitemkey': 1, 'partkey': 43, 'suppkey': 19, 'quantity': Decimal('45.00'), 'extendedprice': Decimal('42436.80'), 'discount': Decimal('0.06'), 'tax': Decimal('0.00'), 'returnflag': 'R', 'linestatus': 'F', 'shipdate': datetime.date(1994, 2, 2), 'commitdate': datetime.date(1994, 1, 4), 'receiptdate': datetime.date(1994, 2, 23), 'shipinstruct': 'NONE', 'shipmode': 'AIR', 'comment': 's cajole above the pinto beans. iro'}, {'lineitemkey': 2, 'partkey': 191, 'suppkey': 70, 'quantity': Decimal('49.00'), 'extendedprice': Decimal('53468.31'), 'discount': Decimal('0.10'), 'tax': Decimal('0.00'), 'returnflag': 'R', 'linestatus': 'F', 'shipdate': datetime.date(1993, 11, 9), 'commitdate': datetime.date(1993, 12, 20), 'receiptdate': datetime.date(1993, 11, 24), 'shipinstruct': 'TAKE BACK RETURN', 'shipmode': 'RAIL', 'comment': 'ecial pinto beans. sly'}, {'lineitemkey': 3, 'partkey': 1285, 'suppkey': 60, 'quantity': Decimal('27.00'), 'extendedprice': Decimal('32029.56'), 'discount': Decimal('0.06'), 'tax': Decimal('0.07'), 'returnflag': 'A', 'linestatus': 'F', 'shipdate': datetime.date(1994, 1, 16), 'commitdate': datetime.date(1993, 11, 22), 'receiptdate': datetime.date(1994, 1, 23), 'shipinstruct': 'DELIVER IN PERSON', 'shipmode': 'SHIP', 'comment': 'e carefully fina'}, {'lineitemkey': 4, 'partkey': 294, 'suppkey': 22, 'quantity': Decimal('2.00'), 'extendedprice': Decimal('2388.58'), 'discount': Decimal('0.01'), 'tax': Decimal('0.06'), 'returnflag': 'A', 'linestatus': 'F', 'shipdate': datetime.date(1993, 12, 4), 'commitdate': datetime.date(1994, 1, 7), 'receiptdate': datetime.date(1994, 1, 1), 'shipinstruct': 'NONE', 'shipmode': 'TRUCK', 'comment': 'ackages boost across '}, {'lineitemkey': 5, 'partkey': 1831, 'suppkey': 61, 'quantity': Decimal('28.00'), 'extendedprice': Decimal('48519.24'), 'discount': Decimal('0.04'), 'tax': Decimal('0.00'), 'returnflag': 'R', 'linestatus': 'F', 'shipdate': datetime.date(1993, 12, 14), 'commitdate': datetime.date(1994, 1, 10), 'receiptdate': datetime.date(1994, 1, 1), 'shipinstruct': 'TAKE BACK RETURN', 'shipmode': 'FOB', 'comment': 'heodolites haggle blit'}, {'lineitemkey': 6, 'partkey': 622, 'suppkey': 16, 'quantity': Decimal('26.00'), 'extendedprice': Decimal('39588.12'), 'discount': Decimal('0.10'), 'tax': Decimal('0.02'), 'returnflag': 'A', 'linestatus': 'F', 'shipdate': datetime.date(1993, 10, 29), 'commitdate': datetime.date(1993, 12, 18), 'receiptdate': datetime.date(1993, 11, 4), 'shipinstruct': 'TAKE BACK RETURN', 'shipmode': 'RAIL', 'comment': 'telets x-ray quickly mult'}]</td>\n",
       "        </tr>\n",
       "        <tr>\n",
       "            <td>4</td>\n",
       "            <td>1369</td>\n",
       "            <td>O</td>\n",
       "            <td>56000.91</td>\n",
       "            <td>1995-10-11</td>\n",
       "            <td>5-LOW</td>\n",
       "            <td>Clerk#000000124</td>\n",
       "            <td>0</td>\n",
       "            <td>st the furiously bold pinto beans. furiously pending theodolites cajol</td>\n",
       "            <td>1</td>\n",
       "            <td>[{'lineitemkey': 1, 'partkey': 881, 'suppkey': 81, 'quantity': Decimal('30.00'), 'extendedprice': Decimal('53456.40'), 'discount': Decimal('0.03'), 'tax': Decimal('0.08'), 'returnflag': 'N', 'linestatus': 'O', 'shipdate': datetime.date(1996, 1, 10), 'commitdate': datetime.date(1995, 12, 14), 'receiptdate': datetime.date(1996, 1, 18), 'shipinstruct': 'DELIVER IN PERSON', 'shipmode': 'REG AIR', 'comment': 's. even ideas are above the accounts. '}]</td>\n",
       "        </tr>\n",
       "        <tr>\n",
       "            <td>6</td>\n",
       "            <td>557</td>\n",
       "            <td>F</td>\n",
       "            <td>45523.10</td>\n",
       "            <td>1992-02-21</td>\n",
       "            <td>4-NOT SPECIFIED</td>\n",
       "            <td>Clerk#000000058</td>\n",
       "            <td>0</td>\n",
       "            <td>furiously ironic accounts haggle blithely carefully regular de</td>\n",
       "            <td>1</td>\n",
       "            <td>[{'lineitemkey': 1, 'partkey': 1397, 'suppkey': 36, 'quantity': Decimal('37.00'), 'extendedprice': Decimal('48040.43'), 'discount': Decimal('0.08'), 'tax': Decimal('0.03'), 'returnflag': 'A', 'linestatus': 'F', 'shipdate': datetime.date(1992, 4, 27), 'commitdate': datetime.date(1992, 5, 15), 'receiptdate': datetime.date(1992, 5, 2), 'shipinstruct': 'TAKE BACK RETURN', 'shipmode': 'TRUCK', 'comment': 'ly silent ideas! carefull'}]</td>\n",
       "        </tr>\n",
       "    </tbody>\n",
       "</table>"
      ],
      "text/plain": [
       "+------------+-----------+---------------+--------------+-------------+-----------------+-----------------+----------------+---------------------------------------------------------------------------+---------------+-------------------------------------------------------------------------------------------------------------------------------------------------------------------------------------------------------------------------------------------------------------------------------------------------------------------------------------------------------------------------------------------------------------------------------------------------------------------------------------------------------------------------------------------------------------------------------------------------------------------------------------------------------------------------------------------------------------------------------------------------------------------------------------------------------------------------------------------------------------------------------------------------------------------------------------------------------------------------------------------------------------------------------------------------------------------------------------------------------------------------------------------------------------------------------------------------------------------------------------------------------------------------------------------------------------------------------------------------------------------------------------------------------------------------------------------------------------------------------------------------------------------------------------------------------------------------------------------------------------------------------------------------------------------------------------------------------------------------------------------------------------------------------------------------------------------------------------------------------------------------------------------------------------------------------------------------------------------------------------------------------------------------------------------------------------------------------------------------------------------------------------------------------------------------------------------------------------------------------------------------------------------------------------------------------------------------------------------------------------------------------------------------------------------------------------------------------------------------------------------------------------------------------------------------------------------------------------------------------------------------------------------------------------------+\n",
       "| o_orderkey | o_custkey | o_orderstatus | o_totalprice | o_orderdate | o_orderpriority |     o_clerk     | o_shippriority |                                 o_comment                                 | num_lineitems |                                                                                                                                                                                                                                                                                                                                                                                                                                                                                                                                                                                                                                                                                                                                                                                                                                                                                                                                                                                                                                                                                                                                                                                                                                                                                                                             lineitems                                                                                                                                                                                                                                                                                                                                                                                                                                                                                                                                                                                                                                                                                                                                                                                                                                                                                                                                                                                                                                                                                                                                                                                                                                                                                                                             |\n",
       "+------------+-----------+---------------+--------------+-------------+-----------------+-----------------+----------------+---------------------------------------------------------------------------+---------------+-------------------------------------------------------------------------------------------------------------------------------------------------------------------------------------------------------------------------------------------------------------------------------------------------------------------------------------------------------------------------------------------------------------------------------------------------------------------------------------------------------------------------------------------------------------------------------------------------------------------------------------------------------------------------------------------------------------------------------------------------------------------------------------------------------------------------------------------------------------------------------------------------------------------------------------------------------------------------------------------------------------------------------------------------------------------------------------------------------------------------------------------------------------------------------------------------------------------------------------------------------------------------------------------------------------------------------------------------------------------------------------------------------------------------------------------------------------------------------------------------------------------------------------------------------------------------------------------------------------------------------------------------------------------------------------------------------------------------------------------------------------------------------------------------------------------------------------------------------------------------------------------------------------------------------------------------------------------------------------------------------------------------------------------------------------------------------------------------------------------------------------------------------------------------------------------------------------------------------------------------------------------------------------------------------------------------------------------------------------------------------------------------------------------------------------------------------------------------------------------------------------------------------------------------------------------------------------------------------------------------------------------------------------------+\n",
       "|     1      |    370    |       O       |  172799.49   |  1996-01-02 |      5-LOW      | Clerk#000000951 |       0        |                     ly express platelets. deposits acc                    |       6       | [{'lineitemkey': 1, 'partkey': 1552, 'suppkey': 93, 'quantity': Decimal('17.00'), 'extendedprice': Decimal('24710.35'), 'discount': Decimal('0.04'), 'tax': Decimal('0.02'), 'returnflag': 'N', 'linestatus': 'O', 'shipdate': datetime.date(1996, 3, 13), 'commitdate': datetime.date(1996, 2, 12), 'receiptdate': datetime.date(1996, 3, 22), 'shipinstruct': 'DELIVER IN PERSON', 'shipmode': 'TRUCK', 'comment': 'to beans x-ray carefull'}, {'lineitemkey': 2, 'partkey': 674, 'suppkey': 75, 'quantity': Decimal('36.00'), 'extendedprice': Decimal('56688.12'), 'discount': Decimal('0.09'), 'tax': Decimal('0.06'), 'returnflag': 'N', 'linestatus': 'O', 'shipdate': datetime.date(1996, 4, 12), 'commitdate': datetime.date(1996, 2, 28), 'receiptdate': datetime.date(1996, 4, 20), 'shipinstruct': 'TAKE BACK RETURN', 'shipmode': 'MAIL', 'comment': ' according to the final foxes. qui'}, {'lineitemkey': 3, 'partkey': 637, 'suppkey': 38, 'quantity': Decimal('8.00'), 'extendedprice': Decimal('12301.04'), 'discount': Decimal('0.10'), 'tax': Decimal('0.02'), 'returnflag': 'N', 'linestatus': 'O', 'shipdate': datetime.date(1996, 1, 29), 'commitdate': datetime.date(1996, 3, 5), 'receiptdate': datetime.date(1996, 1, 31), 'shipinstruct': 'TAKE BACK RETURN', 'shipmode': 'REG AIR', 'comment': 'ourts cajole above the furiou'}, {'lineitemkey': 4, 'partkey': 22, 'suppkey': 48, 'quantity': Decimal('28.00'), 'extendedprice': Decimal('25816.56'), 'discount': Decimal('0.09'), 'tax': Decimal('0.06'), 'returnflag': 'N', 'linestatus': 'O', 'shipdate': datetime.date(1996, 4, 21), 'commitdate': datetime.date(1996, 3, 30), 'receiptdate': datetime.date(1996, 5, 16), 'shipinstruct': 'NONE', 'shipmode': 'AIR', 'comment': 's cajole busily above t'}, {'lineitemkey': 5, 'partkey': 241, 'suppkey': 23, 'quantity': Decimal('24.00'), 'extendedprice': Decimal('27389.76'), 'discount': Decimal('0.10'), 'tax': Decimal('0.04'), 'returnflag': 'N', 'linestatus': 'O', 'shipdate': datetime.date(1996, 3, 30), 'commitdate': datetime.date(1996, 3, 14), 'receiptdate': datetime.date(1996, 4, 1), 'shipinstruct': 'NONE', 'shipmode': 'FOB', 'comment': ' the regular, regular pa'}, {'lineitemkey': 6, 'partkey': 157, 'suppkey': 10, 'quantity': Decimal('32.00'), 'extendedprice': Decimal('33828.80'), 'discount': Decimal('0.07'), 'tax': Decimal('0.02'), 'returnflag': 'N', 'linestatus': 'O', 'shipdate': datetime.date(1996, 1, 30), 'commitdate': datetime.date(1996, 2, 7), 'receiptdate': datetime.date(1996, 2, 3), 'shipinstruct': 'DELIVER IN PERSON', 'shipmode': 'MAIL', 'comment': 'rouches. special '}] |\n",
       "|     2      |    781    |       O       |   38426.09   |  1996-12-01 |     1-URGENT    | Clerk#000000880 |       0        |          ve the furiously fluffy dependencies. carefully regular          |       1       |                                                                                                                                                                                                                                                                                                                                                                                                                                                                                                                                                                                                                                                                                                                                                                                                                                                                                                                                                                                                                                                                                                       [{'lineitemkey': 1, 'partkey': 1062, 'suppkey': 33, 'quantity': Decimal('38.00'), 'extendedprice': Decimal('36596.28'), 'discount': Decimal('0.00'), 'tax': Decimal('0.05'), 'returnflag': 'N', 'linestatus': 'O', 'shipdate': datetime.date(1997, 1, 28), 'commitdate': datetime.date(1997, 1, 14), 'receiptdate': datetime.date(1997, 2, 2), 'shipinstruct': 'TAKE BACK RETURN', 'shipmode': 'RAIL', 'comment': 're. enticingly regular instruct'}]                                                                                                                                                                                                                                                                                                                                                                                                                                                                                                                                                                                                                                                                                                                                                                                                                                                                                                                                                                                                                                                                                                       |\n",
       "|     3      |    1234   |       F       |  205654.30   |  1993-10-14 |      5-LOW      | Clerk#000000955 |       0        |  after the asymptotes. instructions cajole after the foxes. carefully unu |       6       |     [{'lineitemkey': 1, 'partkey': 43, 'suppkey': 19, 'quantity': Decimal('45.00'), 'extendedprice': Decimal('42436.80'), 'discount': Decimal('0.06'), 'tax': Decimal('0.00'), 'returnflag': 'R', 'linestatus': 'F', 'shipdate': datetime.date(1994, 2, 2), 'commitdate': datetime.date(1994, 1, 4), 'receiptdate': datetime.date(1994, 2, 23), 'shipinstruct': 'NONE', 'shipmode': 'AIR', 'comment': 's cajole above the pinto beans. iro'}, {'lineitemkey': 2, 'partkey': 191, 'suppkey': 70, 'quantity': Decimal('49.00'), 'extendedprice': Decimal('53468.31'), 'discount': Decimal('0.10'), 'tax': Decimal('0.00'), 'returnflag': 'R', 'linestatus': 'F', 'shipdate': datetime.date(1993, 11, 9), 'commitdate': datetime.date(1993, 12, 20), 'receiptdate': datetime.date(1993, 11, 24), 'shipinstruct': 'TAKE BACK RETURN', 'shipmode': 'RAIL', 'comment': 'ecial pinto beans. sly'}, {'lineitemkey': 3, 'partkey': 1285, 'suppkey': 60, 'quantity': Decimal('27.00'), 'extendedprice': Decimal('32029.56'), 'discount': Decimal('0.06'), 'tax': Decimal('0.07'), 'returnflag': 'A', 'linestatus': 'F', 'shipdate': datetime.date(1994, 1, 16), 'commitdate': datetime.date(1993, 11, 22), 'receiptdate': datetime.date(1994, 1, 23), 'shipinstruct': 'DELIVER IN PERSON', 'shipmode': 'SHIP', 'comment': 'e carefully fina'}, {'lineitemkey': 4, 'partkey': 294, 'suppkey': 22, 'quantity': Decimal('2.00'), 'extendedprice': Decimal('2388.58'), 'discount': Decimal('0.01'), 'tax': Decimal('0.06'), 'returnflag': 'A', 'linestatus': 'F', 'shipdate': datetime.date(1993, 12, 4), 'commitdate': datetime.date(1994, 1, 7), 'receiptdate': datetime.date(1994, 1, 1), 'shipinstruct': 'NONE', 'shipmode': 'TRUCK', 'comment': 'ackages boost across '}, {'lineitemkey': 5, 'partkey': 1831, 'suppkey': 61, 'quantity': Decimal('28.00'), 'extendedprice': Decimal('48519.24'), 'discount': Decimal('0.04'), 'tax': Decimal('0.00'), 'returnflag': 'R', 'linestatus': 'F', 'shipdate': datetime.date(1993, 12, 14), 'commitdate': datetime.date(1994, 1, 10), 'receiptdate': datetime.date(1994, 1, 1), 'shipinstruct': 'TAKE BACK RETURN', 'shipmode': 'FOB', 'comment': 'heodolites haggle blit'}, {'lineitemkey': 6, 'partkey': 622, 'suppkey': 16, 'quantity': Decimal('26.00'), 'extendedprice': Decimal('39588.12'), 'discount': Decimal('0.10'), 'tax': Decimal('0.02'), 'returnflag': 'A', 'linestatus': 'F', 'shipdate': datetime.date(1993, 10, 29), 'commitdate': datetime.date(1993, 12, 18), 'receiptdate': datetime.date(1993, 11, 4), 'shipinstruct': 'TAKE BACK RETURN', 'shipmode': 'RAIL', 'comment': 'telets x-ray quickly mult'}]     |\n",
       "|     4      |    1369   |       O       |   56000.91   |  1995-10-11 |      5-LOW      | Clerk#000000124 |       0        |   st the furiously bold pinto beans. furiously pending theodolites cajol  |       1       |                                                                                                                                                                                                                                                                                                                                                                                                                                                                                                                                                                                                                                                                                                                                                                                                                                                                                                                                                                                                                                                                                                 [{'lineitemkey': 1, 'partkey': 881, 'suppkey': 81, 'quantity': Decimal('30.00'), 'extendedprice': Decimal('53456.40'), 'discount': Decimal('0.03'), 'tax': Decimal('0.08'), 'returnflag': 'N', 'linestatus': 'O', 'shipdate': datetime.date(1996, 1, 10), 'commitdate': datetime.date(1995, 12, 14), 'receiptdate': datetime.date(1996, 1, 18), 'shipinstruct': 'DELIVER IN PERSON', 'shipmode': 'REG AIR', 'comment': 's. even ideas are above the accounts. '}]                                                                                                                                                                                                                                                                                                                                                                                                                                                                                                                                                                                                                                                                                                                                                                                                                                                                                                                                                                                                                                                                                                 |\n",
       "|     6      |    557    |       F       |   45523.10   |  1992-02-21 | 4-NOT SPECIFIED | Clerk#000000058 |       0        |       furiously ironic accounts haggle blithely carefully regular de      |       1       |                                                                                                                                                                                                                                                                                                                                                                                                                                                                                                                                                                                                                                                                                                                                                                                                                                                                                                                                                                                                                                                                                                          [{'lineitemkey': 1, 'partkey': 1397, 'suppkey': 36, 'quantity': Decimal('37.00'), 'extendedprice': Decimal('48040.43'), 'discount': Decimal('0.08'), 'tax': Decimal('0.03'), 'returnflag': 'A', 'linestatus': 'F', 'shipdate': datetime.date(1992, 4, 27), 'commitdate': datetime.date(1992, 5, 15), 'receiptdate': datetime.date(1992, 5, 2), 'shipinstruct': 'TAKE BACK RETURN', 'shipmode': 'TRUCK', 'comment': 'ly silent ideas! carefull'}]                                                                                                                                                                                                                                                                                                                                                                                                                                                                                                                                                                                                                                                                                                                                                                                                                                                                                                                                                                                                                                                                                                         |\n",
       "+------------+-----------+---------------+--------------+-------------+-----------------+-----------------+----------------+---------------------------------------------------------------------------+---------------+-------------------------------------------------------------------------------------------------------------------------------------------------------------------------------------------------------------------------------------------------------------------------------------------------------------------------------------------------------------------------------------------------------------------------------------------------------------------------------------------------------------------------------------------------------------------------------------------------------------------------------------------------------------------------------------------------------------------------------------------------------------------------------------------------------------------------------------------------------------------------------------------------------------------------------------------------------------------------------------------------------------------------------------------------------------------------------------------------------------------------------------------------------------------------------------------------------------------------------------------------------------------------------------------------------------------------------------------------------------------------------------------------------------------------------------------------------------------------------------------------------------------------------------------------------------------------------------------------------------------------------------------------------------------------------------------------------------------------------------------------------------------------------------------------------------------------------------------------------------------------------------------------------------------------------------------------------------------------------------------------------------------------------------------------------------------------------------------------------------------------------------------------------------------------------------------------------------------------------------------------------------------------------------------------------------------------------------------------------------------------------------------------------------------------------------------------------------------------------------------------------------------------------------------------------------------------------------------------------------------------------------------------------------------+"
      ]
     },
     "execution_count": 9,
     "metadata": {},
     "output_type": "execute_result"
    }
   ],
   "source": [
    "%%sql\n",
    "WITH line_items as (\n",
    "SELECT \n",
    "    l_orderkey as orderkey,\n",
    "    array_agg(struct_pack(\n",
    "        lineitemkey := l.l_linenumber,\n",
    "        partkey := l.l_partkey,\n",
    "        suppkey := l.l_suppkey,\n",
    "        quantity := l.l_quantity,\n",
    "        extendedprice := l.l_extendedprice,\n",
    "        discount := l.l_discount,\n",
    "        tax := l.l_tax,\n",
    "        returnflag := l.l_returnflag,\n",
    "        linestatus := l.l_linestatus,\n",
    "        shipdate := l.l_shipdate,\n",
    "        commitdate := l.l_commitdate,\n",
    "        receiptdate := l.l_receiptdate,\n",
    "        shipinstruct := l.l_shipinstruct,\n",
    "        shipmode := l.l_shipmode,\n",
    "        comment := l.l_comment\n",
    "    )) AS lineitems\n",
    "FROM \n",
    "    lineitem l \n",
    "GROUP BY \n",
    "    l_orderkey)\n",
    "SELECT o.*,\n",
    "len(l.lineitems) as num_lineitems,\n",
    "l.lineitems\n",
    "FROM orders o\n",
    "LEFT JOIN line_items l\n",
    "on o.o_orderkey = l.orderkey\n",
    "LIMIT 5;"
   ]
  },
  {
   "cell_type": "markdown",
   "id": "ed107ee9-08e9-4fc8-b946-3bb2bc262b14",
   "metadata": {},
   "source": [
    "## Using nested data types in data processing"
   ]
  },
  {
   "cell_type": "code",
   "execution_count": 10,
   "id": "82a9df96-b738-422b-a747-eafa2ae6c4a1",
   "metadata": {},
   "outputs": [
    {
     "data": {
      "text/html": [
       "<span style=\"None\">Running query in &#x27;duckdb&#x27;</span>"
      ],
      "text/plain": [
       "Running query in 'duckdb'"
      ]
     },
     "metadata": {},
     "output_type": "display_data"
    },
    {
     "data": {
      "text/html": [
       "<table>\n",
       "    <thead>\n",
       "        <tr>\n",
       "            <th>Success</th>\n",
       "        </tr>\n",
       "    </thead>\n",
       "    <tbody>\n",
       "    </tbody>\n",
       "</table>"
      ],
      "text/plain": [
       "+---------+\n",
       "| Success |\n",
       "+---------+\n",
       "+---------+"
      ]
     },
     "execution_count": 10,
     "metadata": {},
     "output_type": "execute_result"
    }
   ],
   "source": [
    "%%sql\n",
    "DROP TABLE IF EXISTS wide_orders;"
   ]
  },
  {
   "cell_type": "code",
   "execution_count": 11,
   "id": "0c43ecc5-872b-4ad3-a095-7a8273e31ef2",
   "metadata": {},
   "outputs": [
    {
     "data": {
      "text/html": [
       "<span style=\"None\">Running query in &#x27;duckdb&#x27;</span>"
      ],
      "text/plain": [
       "Running query in 'duckdb'"
      ]
     },
     "metadata": {},
     "output_type": "display_data"
    },
    {
     "data": {
      "text/html": [
       "<table>\n",
       "    <thead>\n",
       "        <tr>\n",
       "            <th>Count</th>\n",
       "        </tr>\n",
       "    </thead>\n",
       "    <tbody>\n",
       "        <tr>\n",
       "            <td>15000</td>\n",
       "        </tr>\n",
       "    </tbody>\n",
       "</table>"
      ],
      "text/plain": [
       "+-------+\n",
       "| Count |\n",
       "+-------+\n",
       "| 15000 |\n",
       "+-------+"
      ]
     },
     "execution_count": 11,
     "metadata": {},
     "output_type": "execute_result"
    }
   ],
   "source": [
    "%%sql\n",
    "CREATE TABLE IF NOT EXISTS wide_orders AS \n",
    "WITH line_items as (\n",
    "SELECT \n",
    "    l_orderkey as orderkey,\n",
    "    array_agg(struct_pack(\n",
    "        lineitemkey := l.l_linenumber,\n",
    "        partkey := l.l_partkey,\n",
    "        suppkey := l.l_suppkey,\n",
    "        quantity := l.l_quantity,\n",
    "        extendedprice := l.l_extendedprice,\n",
    "        discount := l.l_discount,\n",
    "        tax := l.l_tax,\n",
    "        returnflag := l.l_returnflag,\n",
    "        linestatus := l.l_linestatus,\n",
    "        shipdate := l.l_shipdate,\n",
    "        commitdate := l.l_commitdate,\n",
    "        receiptdate := l.l_receiptdate,\n",
    "        shipinstruct := l.l_shipinstruct,\n",
    "        shipmode := l.l_shipmode,\n",
    "        comment := l.l_comment\n",
    "    )) AS lineitems\n",
    "FROM \n",
    "    lineitem l \n",
    "GROUP BY \n",
    "    l_orderkey)\n",
    "SELECT \n",
    "    o.*,\n",
    "    l.lineitems,\n",
    "    struct_pack(\n",
    "        id := c.c_custkey,\n",
    "        name := c.c_name,\n",
    "        address := c.c_address,\n",
    "        nationkey := c.c_nationkey,\n",
    "        phone := c.c_phone,\n",
    "        acctbal := c.c_acctbal,\n",
    "        mktsegment := c.c_mktsegment,\n",
    "        comment := c.c_comment,\n",
    "        nation := struct_pack(\n",
    "            nationkey := n.n_nationkey,\n",
    "            name := n.n_name,\n",
    "            regionkey := n.n_regionkey,\n",
    "            comment := n.n_comment\n",
    "        )\n",
    "    ) AS customer\n",
    "FROM \n",
    "    orders o\n",
    "LEFT JOIN \n",
    "    line_items l ON o.o_orderkey = l.orderkey\n",
    "LEFT JOIN \n",
    "    customer c ON o.o_custkey = c.c_custkey\n",
    "LEFT JOIN\n",
    "    nation n ON c.c_nationkey = n.n_nationkey;"
   ]
  },
  {
   "cell_type": "markdown",
   "id": "098e0d98-8e15-4e21-be09-7dd6154cf647",
   "metadata": {},
   "source": [
    "### STRUCT enables more straightforward data schema and data access"
   ]
  },
  {
   "cell_type": "code",
   "execution_count": 12,
   "id": "246d1f32-1407-481d-9da1-b4cfafd9d28d",
   "metadata": {},
   "outputs": [
    {
     "data": {
      "text/html": [
       "<span style=\"None\">Running query in &#x27;duckdb&#x27;</span>"
      ],
      "text/plain": [
       "Running query in 'duckdb'"
      ]
     },
     "metadata": {},
     "output_type": "display_data"
    },
    {
     "data": {
      "text/html": [
       "<table>\n",
       "    <thead>\n",
       "        <tr>\n",
       "            <th>o_orderkey</th>\n",
       "            <th>name</th>\n",
       "            <th>address</th>\n",
       "            <th>first_lineitem</th>\n",
       "        </tr>\n",
       "    </thead>\n",
       "    <tbody>\n",
       "        <tr>\n",
       "            <td>1</td>\n",
       "            <td>Customer#000000370</td>\n",
       "            <td>DtqbDO5rid</td>\n",
       "            <td>{'lineitemkey': 1, 'partkey': 1552, 'suppkey': 93, 'quantity': Decimal('17.00'), 'extendedprice': Decimal('24710.35'), 'discount': Decimal('0.04'), 'tax': Decimal('0.02'), 'returnflag': 'N', 'linestatus': 'O', 'shipdate': datetime.date(1996, 3, 13), 'commitdate': datetime.date(1996, 2, 12), 'receiptdate': datetime.date(1996, 3, 22), 'shipinstruct': 'DELIVER IN PERSON', 'shipmode': 'TRUCK', 'comment': 'to beans x-ray carefull'}</td>\n",
       "        </tr>\n",
       "        <tr>\n",
       "            <td>2</td>\n",
       "            <td>Customer#000000781</td>\n",
       "            <td>maoqGuL5,rHfX0leqZcFqHqpQH</td>\n",
       "            <td>{'lineitemkey': 1, 'partkey': 1062, 'suppkey': 33, 'quantity': Decimal('38.00'), 'extendedprice': Decimal('36596.28'), 'discount': Decimal('0.00'), 'tax': Decimal('0.05'), 'returnflag': 'N', 'linestatus': 'O', 'shipdate': datetime.date(1997, 1, 28), 'commitdate': datetime.date(1997, 1, 14), 'receiptdate': datetime.date(1997, 2, 2), 'shipinstruct': 'TAKE BACK RETURN', 'shipmode': 'RAIL', 'comment': 're. enticingly regular instruct'}</td>\n",
       "        </tr>\n",
       "    </tbody>\n",
       "</table>"
      ],
      "text/plain": [
       "+------------+--------------------+----------------------------+-----------------------------------------------------------------------------------------------------------------------------------------------------------------------------------------------------------------------------------------------------------------------------------------------------------------------------------------------------------------------------------------------------------------------------------------------------+\n",
       "| o_orderkey |        name        |          address           |                                                                                                                                                                                                                    first_lineitem                                                                                                                                                                                                                   |\n",
       "+------------+--------------------+----------------------------+-----------------------------------------------------------------------------------------------------------------------------------------------------------------------------------------------------------------------------------------------------------------------------------------------------------------------------------------------------------------------------------------------------------------------------------------------------+\n",
       "|     1      | Customer#000000370 |         DtqbDO5rid         |    {'lineitemkey': 1, 'partkey': 1552, 'suppkey': 93, 'quantity': Decimal('17.00'), 'extendedprice': Decimal('24710.35'), 'discount': Decimal('0.04'), 'tax': Decimal('0.02'), 'returnflag': 'N', 'linestatus': 'O', 'shipdate': datetime.date(1996, 3, 13), 'commitdate': datetime.date(1996, 2, 12), 'receiptdate': datetime.date(1996, 3, 22), 'shipinstruct': 'DELIVER IN PERSON', 'shipmode': 'TRUCK', 'comment': 'to beans x-ray carefull'}   |\n",
       "|     2      | Customer#000000781 | maoqGuL5,rHfX0leqZcFqHqpQH | {'lineitemkey': 1, 'partkey': 1062, 'suppkey': 33, 'quantity': Decimal('38.00'), 'extendedprice': Decimal('36596.28'), 'discount': Decimal('0.00'), 'tax': Decimal('0.05'), 'returnflag': 'N', 'linestatus': 'O', 'shipdate': datetime.date(1997, 1, 28), 'commitdate': datetime.date(1997, 1, 14), 'receiptdate': datetime.date(1997, 2, 2), 'shipinstruct': 'TAKE BACK RETURN', 'shipmode': 'RAIL', 'comment': 're. enticingly regular instruct'} |\n",
       "+------------+--------------------+----------------------------+-----------------------------------------------------------------------------------------------------------------------------------------------------------------------------------------------------------------------------------------------------------------------------------------------------------------------------------------------------------------------------------------------------------------------------------------------------+"
      ]
     },
     "execution_count": 12,
     "metadata": {},
     "output_type": "execute_result"
    }
   ],
   "source": [
    "%%sql\n",
    "SELECT o_orderkey,\n",
    "customer.name,\n",
    "customer.address,\n",
    "lineitems[1] as first_lineitem\n",
    "FROM wide_orders\n",
    "limit 2;"
   ]
  },
  {
   "cell_type": "markdown",
   "id": "eeb47130-893d-4f2e-bc6c-3065357ff53c",
   "metadata": {},
   "source": [
    "### Nested data types can be sorted\n",
    "\n"
   ]
  },
  {
   "cell_type": "code",
   "execution_count": 13,
   "id": "957a199e-4efb-4594-a16a-5be21b8d7090",
   "metadata": {},
   "outputs": [
    {
     "data": {
      "text/html": [
       "<span style=\"None\">Running query in &#x27;duckdb&#x27;</span>"
      ],
      "text/plain": [
       "Running query in 'duckdb'"
      ]
     },
     "metadata": {},
     "output_type": "display_data"
    },
    {
     "data": {
      "text/html": [
       "<table>\n",
       "    <thead>\n",
       "        <tr>\n",
       "            <th>customer</th>\n",
       "        </tr>\n",
       "    </thead>\n",
       "    <tbody>\n",
       "        <tr>\n",
       "            <td>{'id': 1, 'name': 'Customer#000000001', 'address': 'j5JsirBM9PsCy0O1m', 'nationkey': 15, 'phone': '25-989-741-2988', 'acctbal': Decimal('711.56'), 'mktsegment': 'BUILDING', 'comment': 'y final requests wake slyly quickly special accounts. blithely', 'nation': {'nationkey': 15, 'name': 'MOROCCO', 'regionkey': 0, 'comment': 'ct blithely: blithely express accounts nag carefully. silent packages haggle carefully abo'}}</td>\n",
       "        </tr>\n",
       "        <tr>\n",
       "            <td>{'id': 2, 'name': 'Customer#000000002', 'address': '487LW1dovn6Q4dMVymKwwLE9OKf3QG', 'nationkey': 13, 'phone': '23-768-687-3665', 'acctbal': Decimal('121.65'), 'mktsegment': 'AUTOMOBILE', 'comment': 'y carefully regular foxes. slyly regular requests about the bli', 'nation': {'nationkey': 13, 'name': 'JORDAN', 'regionkey': 4, 'comment': 'the slyly regular ideas. silent Tiresias affix slyly fu'}}</td>\n",
       "        </tr>\n",
       "        <tr>\n",
       "            <td>{'id': 4, 'name': 'Customer#000000004', 'address': '4u58h fqkyE', 'nationkey': 4, 'phone': '14-128-190-5944', 'acctbal': Decimal('2866.83'), 'mktsegment': 'MACHINERY', 'comment': ' sublate. fluffily even instructions are about th', 'nation': {'nationkey': 4, 'name': 'EGYPT', 'regionkey': 4, 'comment': 'usly ironic, pending foxes. even, special instructions nag. sly, final foxes detect slyly fluffily '}}</td>\n",
       "        </tr>\n",
       "        <tr>\n",
       "            <td>{'id': 5, 'name': 'Customer#000000005', 'address': 'hwBtxkoBF qSW4KrIk5U 2B1AU7H', 'nationkey': 3, 'phone': '13-750-942-6364', 'acctbal': Decimal('794.47'), 'mktsegment': 'HOUSEHOLD', 'comment': 'equests haggle furiously against the pending packa', 'nation': {'nationkey': 3, 'name': 'CANADA', 'regionkey': 1, 'comment': 'ss deposits wake across the pending foxes. packages after the carefully bold requests integrate caref'}}</td>\n",
       "        </tr>\n",
       "        <tr>\n",
       "            <td>{'id': 7, 'name': 'Customer#000000007', 'address': '8OkMVLQ1dK6Mbu6WG9 w4pLGQ n7MQ', 'nationkey': 18, 'phone': '28-190-982-9759', 'acctbal': Decimal('9561.95'), 'mktsegment': 'AUTOMOBILE', 'comment': 'ounts. ironic, regular accounts sleep. final requests haggle quickly after the', 'nation': {'nationkey': 18, 'name': 'CHINA', 'regionkey': 2, 'comment': 'ckly special packages cajole slyly. unusual, unusual theodolites mold furiously. slyly sile'}}</td>\n",
       "        </tr>\n",
       "    </tbody>\n",
       "</table>"
      ],
      "text/plain": [
       "+-------------------------------------------------------------------------------------------------------------------------------------------------------------------------------------------------------------------------------------------------------------------------------------------------------------------------------------------------------------------------------------------------------------------------------------------------------------------+\n",
       "|                                                                                                                                                                                                                              customer                                                                                                                                                                                                                             |\n",
       "+-------------------------------------------------------------------------------------------------------------------------------------------------------------------------------------------------------------------------------------------------------------------------------------------------------------------------------------------------------------------------------------------------------------------------------------------------------------------+\n",
       "|                 {'id': 1, 'name': 'Customer#000000001', 'address': 'j5JsirBM9PsCy0O1m', 'nationkey': 15, 'phone': '25-989-741-2988', 'acctbal': Decimal('711.56'), 'mktsegment': 'BUILDING', 'comment': 'y final requests wake slyly quickly special accounts. blithely', 'nation': {'nationkey': 15, 'name': 'MOROCCO', 'regionkey': 0, 'comment': 'ct blithely: blithely express accounts nag carefully. silent packages haggle carefully abo'}}                |\n",
       "|                           {'id': 2, 'name': 'Customer#000000002', 'address': '487LW1dovn6Q4dMVymKwwLE9OKf3QG', 'nationkey': 13, 'phone': '23-768-687-3665', 'acctbal': Decimal('121.65'), 'mktsegment': 'AUTOMOBILE', 'comment': 'y carefully regular foxes. slyly regular requests about the bli', 'nation': {'nationkey': 13, 'name': 'JORDAN', 'regionkey': 4, 'comment': 'the slyly regular ideas. silent Tiresias affix slyly fu'}}                          |\n",
       "|                       {'id': 4, 'name': 'Customer#000000004', 'address': '4u58h fqkyE', 'nationkey': 4, 'phone': '14-128-190-5944', 'acctbal': Decimal('2866.83'), 'mktsegment': 'MACHINERY', 'comment': ' sublate. fluffily even instructions are about th', 'nation': {'nationkey': 4, 'name': 'EGYPT', 'regionkey': 4, 'comment': 'usly ironic, pending foxes. even, special instructions nag. sly, final foxes detect slyly fluffily '}}                      |\n",
       "|             {'id': 5, 'name': 'Customer#000000005', 'address': 'hwBtxkoBF qSW4KrIk5U 2B1AU7H', 'nationkey': 3, 'phone': '13-750-942-6364', 'acctbal': Decimal('794.47'), 'mktsegment': 'HOUSEHOLD', 'comment': 'equests haggle furiously against the pending packa', 'nation': {'nationkey': 3, 'name': 'CANADA', 'regionkey': 1, 'comment': 'ss deposits wake across the pending foxes. packages after the carefully bold requests integrate caref'}}            |\n",
       "| {'id': 7, 'name': 'Customer#000000007', 'address': '8OkMVLQ1dK6Mbu6WG9 w4pLGQ n7MQ', 'nationkey': 18, 'phone': '28-190-982-9759', 'acctbal': Decimal('9561.95'), 'mktsegment': 'AUTOMOBILE', 'comment': 'ounts. ironic, regular accounts sleep. final requests haggle quickly after the', 'nation': {'nationkey': 18, 'name': 'CHINA', 'regionkey': 2, 'comment': 'ckly special packages cajole slyly. unusual, unusual theodolites mold furiously. slyly sile'}} |\n",
       "+-------------------------------------------------------------------------------------------------------------------------------------------------------------------------------------------------------------------------------------------------------------------------------------------------------------------------------------------------------------------------------------------------------------------------------------------------------------------+"
      ]
     },
     "execution_count": 13,
     "metadata": {},
     "output_type": "execute_result"
    }
   ],
   "source": [
    "%%sql\n",
    "SELECT customer\n",
    "FROM wide_orders \n",
    "GROUP BY 1\n",
    "ORDER BY 1\n",
    "LIMIT 5\n"
   ]
  },
  {
   "cell_type": "code",
   "execution_count": 14,
   "id": "e87b0439-16cc-46af-963b-28902a8bca53",
   "metadata": {},
   "outputs": [],
   "source": [
    "# exercise: Sort ARRAY of lineitems, how is it sorted? What do you think is the sort order based on?"
   ]
  },
  {
   "cell_type": "markdown",
   "id": "4a6f022d-a197-446c-8747-ef5d29c8a0ab",
   "metadata": {},
   "source": [
    "### UNNEST ARRAY to rows and GROUP rows to ARRAY"
   ]
  },
  {
   "cell_type": "code",
   "execution_count": 15,
   "id": "7b00d1b2-378d-4ac0-9863-dc3ebef95d98",
   "metadata": {},
   "outputs": [
    {
     "data": {
      "text/html": [
       "<span style=\"None\">Running query in &#x27;duckdb&#x27;</span>"
      ],
      "text/plain": [
       "Running query in 'duckdb'"
      ]
     },
     "metadata": {},
     "output_type": "display_data"
    },
    {
     "data": {
      "text/html": [
       "<table>\n",
       "    <thead>\n",
       "        <tr>\n",
       "            <th>o_orderkey</th>\n",
       "            <th>lineitems</th>\n",
       "        </tr>\n",
       "    </thead>\n",
       "    <tbody>\n",
       "        <tr>\n",
       "            <td>1</td>\n",
       "            <td>[{'line_item_key': 1, 'part_key': 1552, 'quantity': Decimal('17.00')}, {'line_item_key': 2, 'part_key': 674, 'quantity': Decimal('36.00')}, {'line_item_key': 3, 'part_key': 637, 'quantity': Decimal('8.00')}, {'line_item_key': 4, 'part_key': 22, 'quantity': Decimal('28.00')}, {'line_item_key': 5, 'part_key': 241, 'quantity': Decimal('24.00')}, {'line_item_key': 6, 'part_key': 157, 'quantity': Decimal('32.00')}]</td>\n",
       "        </tr>\n",
       "        <tr>\n",
       "            <td>33</td>\n",
       "            <td>[{'line_item_key': 1, 'part_key': 614, 'quantity': Decimal('31.00')}, {'line_item_key': 2, 'part_key': 606, 'quantity': Decimal('32.00')}, {'line_item_key': 3, 'part_key': 1375, 'quantity': Decimal('5.00')}, {'line_item_key': 4, 'part_key': 340, 'quantity': Decimal('41.00')}]</td>\n",
       "        </tr>\n",
       "        <tr>\n",
       "            <td>68</td>\n",
       "            <td>[{'line_item_key': 1, 'part_key': 71, 'quantity': Decimal('3.00')}, {'line_item_key': 2, 'part_key': 1752, 'quantity': Decimal('46.00')}, {'line_item_key': 3, 'part_key': 350, 'quantity': Decimal('46.00')}, {'line_item_key': 4, 'part_key': 948, 'quantity': Decimal('20.00')}, {'line_item_key': 5, 'part_key': 828, 'quantity': Decimal('27.00')}, {'line_item_key': 6, 'part_key': 1026, 'quantity': Decimal('30.00')}, {'line_item_key': 7, 'part_key': 1393, 'quantity': Decimal('41.00')}]</td>\n",
       "        </tr>\n",
       "        <tr>\n",
       "            <td>98</td>\n",
       "            <td>[{'line_item_key': 1, 'part_key': 403, 'quantity': Decimal('28.00')}, {'line_item_key': 2, 'part_key': 1098, 'quantity': Decimal('1.00')}, {'line_item_key': 3, 'part_key': 448, 'quantity': Decimal('14.00')}, {'line_item_key': 4, 'part_key': 1672, 'quantity': Decimal('10.00')}]</td>\n",
       "        </tr>\n",
       "        <tr>\n",
       "            <td>133</td>\n",
       "            <td>[{'line_item_key': 1, 'part_key': 1035, 'quantity': Decimal('27.00')}, {'line_item_key': 2, 'part_key': 1763, 'quantity': Decimal('12.00')}, {'line_item_key': 3, 'part_key': 1174, 'quantity': Decimal('29.00')}, {'line_item_key': 4, 'part_key': 899, 'quantity': Decimal('11.00')}]</td>\n",
       "        </tr>\n",
       "    </tbody>\n",
       "</table>"
      ],
      "text/plain": [
       "+------------+------------------------------------------------------------------------------------------------------------------------------------------------------------------------------------------------------------------------------------------------------------------------------------------------------------------------------------------------------------------------------------------------------------------------------------------------------------------------------------------------------+\n",
       "| o_orderkey |                                                                                                                                                                                                                                              lineitems                                                                                                                                                                                                                                               |\n",
       "+------------+------------------------------------------------------------------------------------------------------------------------------------------------------------------------------------------------------------------------------------------------------------------------------------------------------------------------------------------------------------------------------------------------------------------------------------------------------------------------------------------------------+\n",
       "|     1      |                                    [{'line_item_key': 1, 'part_key': 1552, 'quantity': Decimal('17.00')}, {'line_item_key': 2, 'part_key': 674, 'quantity': Decimal('36.00')}, {'line_item_key': 3, 'part_key': 637, 'quantity': Decimal('8.00')}, {'line_item_key': 4, 'part_key': 22, 'quantity': Decimal('28.00')}, {'line_item_key': 5, 'part_key': 241, 'quantity': Decimal('24.00')}, {'line_item_key': 6, 'part_key': 157, 'quantity': Decimal('32.00')}]                                     |\n",
       "|     33     |                                                                                                         [{'line_item_key': 1, 'part_key': 614, 'quantity': Decimal('31.00')}, {'line_item_key': 2, 'part_key': 606, 'quantity': Decimal('32.00')}, {'line_item_key': 3, 'part_key': 1375, 'quantity': Decimal('5.00')}, {'line_item_key': 4, 'part_key': 340, 'quantity': Decimal('41.00')}]                                                                                                         |\n",
       "|     68     | [{'line_item_key': 1, 'part_key': 71, 'quantity': Decimal('3.00')}, {'line_item_key': 2, 'part_key': 1752, 'quantity': Decimal('46.00')}, {'line_item_key': 3, 'part_key': 350, 'quantity': Decimal('46.00')}, {'line_item_key': 4, 'part_key': 948, 'quantity': Decimal('20.00')}, {'line_item_key': 5, 'part_key': 828, 'quantity': Decimal('27.00')}, {'line_item_key': 6, 'part_key': 1026, 'quantity': Decimal('30.00')}, {'line_item_key': 7, 'part_key': 1393, 'quantity': Decimal('41.00')}] |\n",
       "|     98     |                                                                                                        [{'line_item_key': 1, 'part_key': 403, 'quantity': Decimal('28.00')}, {'line_item_key': 2, 'part_key': 1098, 'quantity': Decimal('1.00')}, {'line_item_key': 3, 'part_key': 448, 'quantity': Decimal('14.00')}, {'line_item_key': 4, 'part_key': 1672, 'quantity': Decimal('10.00')}]                                                                                                         |\n",
       "|    133     |                                                                                                       [{'line_item_key': 1, 'part_key': 1035, 'quantity': Decimal('27.00')}, {'line_item_key': 2, 'part_key': 1763, 'quantity': Decimal('12.00')}, {'line_item_key': 3, 'part_key': 1174, 'quantity': Decimal('29.00')}, {'line_item_key': 4, 'part_key': 899, 'quantity': Decimal('11.00')}]                                                                                                        |\n",
       "+------------+------------------------------------------------------------------------------------------------------------------------------------------------------------------------------------------------------------------------------------------------------------------------------------------------------------------------------------------------------------------------------------------------------------------------------------------------------------------------------------------------------+"
      ]
     },
     "execution_count": 15,
     "metadata": {},
     "output_type": "execute_result"
    }
   ],
   "source": [
    "%%sql\n",
    "-- rows to ARRAY\n",
    "WITH lineitems as (SELECT \n",
    "    o.o_orderkey,\n",
    "    UNNEST(o.lineitems) as line_item\n",
    "FROM \n",
    "    wide_orders o),\n",
    "unnested_line_items AS (\n",
    "SELECT o_orderkey,\n",
    "    line_item.lineitemkey,\n",
    "    line_item.partkey,\n",
    "    line_item.quantity\n",
    "    FROM lineitems\n",
    ")\n",
    "SELECT o_orderkey,\n",
    "array_agg(struct_pack(\n",
    "        line_item_key := lineitemkey,\n",
    "        part_key := partkey,\n",
    "        quantity := quantity)) as lineitems\n",
    "FROM unnested_line_items\n",
    "GROUP BY 1\n",
    "LIMIT 5;"
   ]
  },
  {
   "cell_type": "code",
   "execution_count": 16,
   "id": "c92cc811-dc93-43fd-ad53-11d8bfad4265",
   "metadata": {},
   "outputs": [
    {
     "data": {
      "text/html": [
       "<span style=\"None\">Running query in &#x27;duckdb&#x27;</span>"
      ],
      "text/plain": [
       "Running query in 'duckdb'"
      ]
     },
     "metadata": {},
     "output_type": "display_data"
    },
    {
     "data": {
      "text/html": [
       "<table>\n",
       "    <thead>\n",
       "        <tr>\n",
       "            <th>o_orderkey</th>\n",
       "            <th>lineitemkey</th>\n",
       "            <th>partkey</th>\n",
       "            <th>quantity</th>\n",
       "        </tr>\n",
       "    </thead>\n",
       "    <tbody>\n",
       "        <tr>\n",
       "            <td>1</td>\n",
       "            <td>1</td>\n",
       "            <td>1552</td>\n",
       "            <td>17.00</td>\n",
       "        </tr>\n",
       "        <tr>\n",
       "            <td>1</td>\n",
       "            <td>2</td>\n",
       "            <td>674</td>\n",
       "            <td>36.00</td>\n",
       "        </tr>\n",
       "        <tr>\n",
       "            <td>1</td>\n",
       "            <td>3</td>\n",
       "            <td>637</td>\n",
       "            <td>8.00</td>\n",
       "        </tr>\n",
       "        <tr>\n",
       "            <td>1</td>\n",
       "            <td>4</td>\n",
       "            <td>22</td>\n",
       "            <td>28.00</td>\n",
       "        </tr>\n",
       "        <tr>\n",
       "            <td>1</td>\n",
       "            <td>5</td>\n",
       "            <td>241</td>\n",
       "            <td>24.00</td>\n",
       "        </tr>\n",
       "    </tbody>\n",
       "</table>"
      ],
      "text/plain": [
       "+------------+-------------+---------+----------+\n",
       "| o_orderkey | lineitemkey | partkey | quantity |\n",
       "+------------+-------------+---------+----------+\n",
       "|     1      |      1      |   1552  |  17.00   |\n",
       "|     1      |      2      |   674   |  36.00   |\n",
       "|     1      |      3      |   637   |   8.00   |\n",
       "|     1      |      4      |    22   |  28.00   |\n",
       "|     1      |      5      |   241   |  24.00   |\n",
       "+------------+-------------+---------+----------+"
      ]
     },
     "execution_count": 16,
     "metadata": {},
     "output_type": "execute_result"
    }
   ],
   "source": [
    "%%sql\n",
    "-- ARRAY to rows\n",
    "WITH\n",
    "  lineitems AS (\n",
    "    SELECT\n",
    "      o.o_orderkey,\n",
    "      UNNEST (o.lineitems) AS line_item\n",
    "    FROM\n",
    "      wide_orders o\n",
    "  )\n",
    "SELECT\n",
    "  o_orderkey,\n",
    "  line_item.lineitemkey,\n",
    "  line_item.partkey,\n",
    "  line_item.quantity\n",
    "FROM\n",
    "  lineitems\n",
    "LIMIT\n",
    "  5\n"
   ]
  },
  {
   "cell_type": "markdown",
   "id": "052ed6c1-7abf-43b8-829d-b08273916948",
   "metadata": {},
   "source": [
    "### Improve OBT usability with nested data types"
   ]
  },
  {
   "cell_type": "markdown",
   "id": "c2605a40-52de-4a12-a119-9710badb540d",
   "metadata": {},
   "source": [
    "![Nested OBT to pre aggregate](./images/nested-preagg.png)"
   ]
  },
  {
   "cell_type": "code",
   "execution_count": 22,
   "id": "b045f72f-b5d6-454f-9dc2-70e464453bdc",
   "metadata": {},
   "outputs": [
    {
     "data": {
      "text/html": [
       "<span style=\"None\">Running query in &#x27;duckdb&#x27;</span>"
      ],
      "text/plain": [
       "Running query in 'duckdb'"
      ]
     },
     "metadata": {},
     "output_type": "display_data"
    },
    {
     "data": {
      "text/html": [
       "<table>\n",
       "    <thead>\n",
       "        <tr>\n",
       "            <th>o_orderkey</th>\n",
       "            <th>order_total_price</th>\n",
       "            <th>num_line_items</th>\n",
       "            <th>total_line_item_quantity</th>\n",
       "        </tr>\n",
       "    </thead>\n",
       "    <tbody>\n",
       "        <tr>\n",
       "            <td>1</td>\n",
       "            <td>172799.49</td>\n",
       "            <td>6</td>\n",
       "            <td>145.00</td>\n",
       "        </tr>\n",
       "        <tr>\n",
       "            <td>2</td>\n",
       "            <td>38426.09</td>\n",
       "            <td>1</td>\n",
       "            <td>38.00</td>\n",
       "        </tr>\n",
       "        <tr>\n",
       "            <td>3</td>\n",
       "            <td>205654.30</td>\n",
       "            <td>6</td>\n",
       "            <td>177.00</td>\n",
       "        </tr>\n",
       "        <tr>\n",
       "            <td>4</td>\n",
       "            <td>56000.91</td>\n",
       "            <td>1</td>\n",
       "            <td>30.00</td>\n",
       "        </tr>\n",
       "        <tr>\n",
       "            <td>5</td>\n",
       "            <td>105367.67</td>\n",
       "            <td>3</td>\n",
       "            <td>91.00</td>\n",
       "        </tr>\n",
       "        <tr>\n",
       "            <td>6</td>\n",
       "            <td>45523.10</td>\n",
       "            <td>1</td>\n",
       "            <td>37.00</td>\n",
       "        </tr>\n",
       "        <tr>\n",
       "            <td>7</td>\n",
       "            <td>271885.66</td>\n",
       "            <td>7</td>\n",
       "            <td>173.00</td>\n",
       "        </tr>\n",
       "        <tr>\n",
       "            <td>32</td>\n",
       "            <td>198665.57</td>\n",
       "            <td>6</td>\n",
       "            <td>116.00</td>\n",
       "        </tr>\n",
       "        <tr>\n",
       "            <td>33</td>\n",
       "            <td>146567.24</td>\n",
       "            <td>4</td>\n",
       "            <td>109.00</td>\n",
       "        </tr>\n",
       "        <tr>\n",
       "            <td>34</td>\n",
       "            <td>73315.48</td>\n",
       "            <td>3</td>\n",
       "            <td>41.00</td>\n",
       "        </tr>\n",
       "    </tbody>\n",
       "</table>\n",
       "<span style=\"font-style:italic;text-align:center;\">Truncated to <a href=\"https://jupysql.ploomber.io/en/latest/api/configuration.html#displaylimit\">displaylimit</a> of 10.</span>"
      ],
      "text/plain": [
       "+------------+-------------------+----------------+--------------------------+\n",
       "| o_orderkey | order_total_price | num_line_items | total_line_item_quantity |\n",
       "+------------+-------------------+----------------+--------------------------+\n",
       "|     1      |     172799.49     |       6        |          145.00          |\n",
       "|     2      |      38426.09     |       1        |          38.00           |\n",
       "|     3      |     205654.30     |       6        |          177.00          |\n",
       "|     4      |      56000.91     |       1        |          30.00           |\n",
       "|     5      |     105367.67     |       3        |          91.00           |\n",
       "|     6      |      45523.10     |       1        |          37.00           |\n",
       "|     7      |     271885.66     |       7        |          173.00          |\n",
       "|     32     |     198665.57     |       6        |          116.00          |\n",
       "|     33     |     146567.24     |       4        |          109.00          |\n",
       "|     34     |      73315.48     |       3        |          41.00           |\n",
       "+------------+-------------------+----------------+--------------------------+\n",
       "Truncated to displaylimit of 10."
      ]
     },
     "execution_count": 22,
     "metadata": {},
     "output_type": "execute_result"
    }
   ],
   "source": [
    "%%sql\n",
    "-- get lineitem metrics, with array aggregation functions (specific to DuckDB)\n",
    "SELECT o_orderkey,\n",
    "    o_totalprice AS order_total_price,\n",
    "    len(lineitems) as num_line_items,\n",
    "    array_reduce(array_transform(lineitems, x -> x.quantity), (x, y) -> x + y) as total_line_item_quantity\n",
    "FROM wide_orders\n",
    "ORDER BY\n",
    "  1\n",
    "LIMIT\n",
    "  10;\n"
   ]
  },
  {
   "cell_type": "code",
   "execution_count": 18,
   "id": "424ac53f-5a00-4eae-9322-6e9e91ab80e9",
   "metadata": {},
   "outputs": [
    {
     "data": {
      "text/html": [
       "<span style=\"None\">Running query in &#x27;duckdb&#x27;</span>"
      ],
      "text/plain": [
       "Running query in 'duckdb'"
      ]
     },
     "metadata": {},
     "output_type": "display_data"
    },
    {
     "data": {
      "text/html": [
       "<table>\n",
       "    <thead>\n",
       "        <tr>\n",
       "            <th>o_orderdate</th>\n",
       "            <th>order_total_price</th>\n",
       "        </tr>\n",
       "    </thead>\n",
       "    <tbody>\n",
       "        <tr>\n",
       "            <td>1992-01-01</td>\n",
       "            <td>1359507.29</td>\n",
       "        </tr>\n",
       "        <tr>\n",
       "            <td>1992-01-02</td>\n",
       "            <td>916463.63</td>\n",
       "        </tr>\n",
       "        <tr>\n",
       "            <td>1992-01-03</td>\n",
       "            <td>1020749.95</td>\n",
       "        </tr>\n",
       "        <tr>\n",
       "            <td>1992-01-04</td>\n",
       "            <td>1503029.23</td>\n",
       "        </tr>\n",
       "        <tr>\n",
       "            <td>1992-01-05</td>\n",
       "            <td>1124149.60</td>\n",
       "        </tr>\n",
       "    </tbody>\n",
       "</table>"
      ],
      "text/plain": [
       "+-------------+-------------------+\n",
       "| o_orderdate | order_total_price |\n",
       "+-------------+-------------------+\n",
       "|  1992-01-01 |     1359507.29    |\n",
       "|  1992-01-02 |     916463.63     |\n",
       "|  1992-01-03 |     1020749.95    |\n",
       "|  1992-01-04 |     1503029.23    |\n",
       "|  1992-01-05 |     1124149.60    |\n",
       "+-------------+-------------------+"
      ]
     },
     "execution_count": 18,
     "metadata": {},
     "output_type": "execute_result"
    }
   ],
   "source": [
    "%%sql\n",
    "-- Get order metrics\n",
    "SELECT\n",
    "  o_orderdate,\n",
    "  SUM(o_totalprice) AS order_total_price\n",
    "FROM\n",
    "  wide_orders\n",
    "GROUP BY\n",
    "  1\n",
    "ORDER BY\n",
    "  1\n",
    "LIMIT\n",
    "  5;"
   ]
  },
  {
   "cell_type": "code",
   "execution_count": null,
   "id": "1c054c36-51dc-46a2-8c6b-b573ec0308c8",
   "metadata": {},
   "outputs": [],
   "source": [
    "%%sql\n",
    "-- get lineitem metrics\n",
    "WITH\n",
    "  lineitems AS (\n",
    "    SELECT\n",
    "      o.o_orderkey,\n",
    "      UNNEST (o.lineitems) AS line_item\n",
    "    FROM\n",
    "      wide_orders o\n",
    "  )\n",
    "SELECT\n",
    "  o_orderkey,\n",
    "  COUNT(line_item.lineitemkey) AS num_line_items,\n",
    "  SUM(line_item.quantity) AS total_line_item_quantity\n",
    "FROM\n",
    "  lineitems\n",
    "GROUP BY\n",
    "  1\n",
    "ORDER BY\n",
    "  1\n",
    "LIMIT\n",
    "  10;\n"
   ]
  },
  {
   "cell_type": "code",
   "execution_count": null,
   "id": "9f83d789-4938-4e25-8645-d49a97fd9516",
   "metadata": {},
   "outputs": [],
   "source": [
    "# exercise: create a wide_orders_v2 table that combines all the tables in the TPCH data model"
   ]
  },
  {
   "cell_type": "markdown",
   "id": "1d4da25e-b8df-4785-94d2-9c02e2c7e483",
   "metadata": {},
   "source": [
    "## Ensure your performance meets your expectations"
   ]
  },
  {
   "cell_type": "code",
   "execution_count": null,
   "id": "9b364f22-23df-4d67-b833-fac08ba1464f",
   "metadata": {},
   "outputs": [],
   "source": [
    "result = %sql EXPLAIN WITH lineitems AS ( SELECT o.o_orderkey, UNNEST (o.lineitems) AS line_item FROM wide_orders o ) SELECT o_orderkey, COUNT(line_item.lineitemkey) AS num_line_items, SUM(line_item.quantity) AS total_line_item_quantity FROM lineitems GROUP BY 1 ORDER BY 1\n",
    "print(result)"
   ]
  }
 ],
 "metadata": {
  "kernelspec": {
   "display_name": "Python 3 (ipykernel)",
   "language": "python",
   "name": "python3"
  },
  "language_info": {
   "codemirror_mode": {
    "name": "ipython",
    "version": 3
   },
   "file_extension": ".py",
   "mimetype": "text/x-python",
   "name": "python",
   "nbconvert_exporter": "python",
   "pygments_lexer": "ipython3",
   "version": "3.12.4"
  }
 },
 "nbformat": 4,
 "nbformat_minor": 5
}
