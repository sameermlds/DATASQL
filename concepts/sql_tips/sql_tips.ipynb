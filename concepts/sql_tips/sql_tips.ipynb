{
 "cells": [
  {
   "cell_type": "markdown",
   "id": "ce632463-be86-4c9f-94a8-8ecdfc8f37ae",
   "metadata": {},
   "source": [
    "### Code for the blog **[25 SQL tips to level up your data engineering skills](https://www.startdataengineering.com/post/n-sql-tips-de/)**"
   ]
  },
  {
   "cell_type": "markdown",
   "id": "7f4fded1-5f6f-439d-a2ce-f59abf2ff43a",
   "metadata": {
    "jp-MarkdownHeadingCollapsed": true
   },
   "source": [
    "# [SETUP] "
   ]
  },
  {
   "cell_type": "code",
   "execution_count": null,
   "id": "118da67e-aa4e-45f3-9ca7-b66cd237fde1",
   "metadata": {},
   "outputs": [],
   "source": [
    "! python ./setup.py"
   ]
  },
  {
   "cell_type": "markdown",
   "id": "dbcfd5db-87dc-4629-9c25-dd5d9ee8e48c",
   "metadata": {},
   "source": [
    "## Connect to DuckDB"
   ]
  },
  {
   "cell_type": "code",
   "execution_count": null,
   "id": "38db11b5-5d42-4105-b021-e6a66ec00fcd",
   "metadata": {},
   "outputs": [],
   "source": [
    "import duckdb\n",
    "import pandas as pd\n",
    "\n",
    "%load_ext sql\n",
    "conn = duckdb.connect(\"tpch.db\")\n",
    "%sql conn --alias duckdb"
   ]
  },
  {
   "cell_type": "code",
   "execution_count": null,
   "id": "e7b0cd41-ae3a-48be-90a8-4864bc8695f3",
   "metadata": {},
   "outputs": [],
   "source": [
    "%%sql\n",
    "show tables;"
   ]
  },
  {
   "cell_type": "markdown",
   "id": "9bfae6b7-11f9-4c06-84ca-d8964cc03640",
   "metadata": {},
   "source": [
    "# [Data Model]\n",
    "\n",
    "The TPC-H data represents a car parts seller’s data warehouse, where we record orders, items that make up that order (lineitem), supplier, customer, part (parts sold), region, nation, and partsupp (parts supplier). \n",
    "\n",
    "Note: Have a copy of the data model as you follow along; this will help in understanding the examples provided and in answering exercise questions.\n",
    "\n",
    "![](../../tpch_erd.png)\n"
   ]
  },
  {
   "cell_type": "markdown",
   "id": "6500b7ef-1ab8-4100-a984-5a8ee104777e",
   "metadata": {},
   "source": [
    "# Pre-requisites"
   ]
  },
  {
   "cell_type": "markdown",
   "id": "f6af0dde-1986-446f-abd7-151a508b479b",
   "metadata": {},
   "source": [
    "1. [Basics](https://github.com/josephmachado/adv_data_transformation_in_sql/blob/main/0-basics.ipynb)\n",
    "2. [CTEs](https://github.com/josephmachado/adv_data_transformation_in_sql/blob/main/concepts/CTE/CTE.ipynb)\n",
    "3. [Window functions](https://github.com/josephmachado/adv_data_transformation_in_sql/blob/main/concepts/windows/windows.ipynb)\n",
    "4. [Nested data types](https://github.com/josephmachado/adv_data_transformation_in_sql/blob/main/concepts/nested_data_types/using_nested_data_types.ipynb)"
   ]
  },
  {
   "cell_type": "markdown",
   "id": "a0434f88-742d-4f62-bf65-a0d552981ad6",
   "metadata": {},
   "source": [
    "# SQL tips"
   ]
  },
  {
   "cell_type": "markdown",
   "id": "56948939-3eb6-4f55-a04b-32a27ceeceaa",
   "metadata": {},
   "source": [
    "## 1. Handy functions for common data processing scenarios"
   ]
  },
  {
   "cell_type": "markdown",
   "id": "5484c6f5-62b5-4770-af89-cd8cdb036bc4",
   "metadata": {},
   "source": [
    "### 1.1. Need to filter on WINDOW function without CTE/Subquery use QUALIFY"
   ]
  },
  {
   "cell_type": "code",
   "execution_count": null,
   "id": "6c7d96f6-3df4-4e3e-8707-4039a9463df5",
   "metadata": {},
   "outputs": [],
   "source": [
    "%%sql\n",
    "SELECT \n",
    "    o_orderkey, \n",
    "    o_totalprice, \n",
    "    RANK() OVER (ORDER BY o_totalprice DESC) AS price_rank\n",
    "FROM orders\n",
    "QUALIFY price_rank <= 10;"
   ]
  },
  {
   "cell_type": "markdown",
   "id": "43ffa008-c4bb-41f9-a71f-035f6aacff72",
   "metadata": {},
   "source": [
    "This query ranks the orders by o_totalprice in descending order and filters the top 10 using the QUALIFY clause. \n",
    "Without QUALIFY we would have to use a subquery or CTE approach to filter on price_rank"
   ]
  },
  {
   "cell_type": "markdown",
   "id": "5c51b130-f7af-46e1-8437-8cfee0966a7b",
   "metadata": {},
   "source": [
    "### 1.2. Need the first/last row in a partition use DISTINCT ON"
   ]
  },
  {
   "cell_type": "code",
   "execution_count": null,
   "id": "15e43fd8-d4ec-4634-a90a-14b87e240412",
   "metadata": {},
   "outputs": [],
   "source": [
    "%%sql\n",
    "SELECT DISTINCT ON (o_custkey) \n",
    "    o_custkey, \n",
    "    o_orderdate, \n",
    "    o_totalprice\n",
    "FROM orders\n",
    "ORDER BY o_custkey, o_orderdate DESC;"
   ]
  },
  {
   "cell_type": "markdown",
   "id": "0d31f265-832b-447e-bc75-210d73f8c30f",
   "metadata": {},
   "source": [
    "**DISTINCT ON (o_custkey)** ensures that you get only one row per customer (o_custkey).\n",
    "    The ORDER BY o_custkey, o_orderdate DESC clause ensures that the query returns the most recent order (o_orderdate) for each customer based on the latest order date.\n",
    "\n",
    "This will return the most recent order details (like o_totalprice and o_orderdate) for each customer (o_custkey)."
   ]
  },
  {
   "cell_type": "markdown",
   "id": "73eb922b-9f4b-4109-be15-03e1a8a89159",
   "metadata": {},
   "source": [
    "### 1.3. STRUCT data types are sorted based on their keys from left to right"
   ]
  },
  {
   "cell_type": "code",
   "execution_count": null,
   "id": "b9a913cc-1935-4e82-b527-69992f49d7a0",
   "metadata": {},
   "outputs": [],
   "source": [
    "%%sql\n",
    "WITH order_struct AS (\n",
    "    SELECT \n",
    "        o_orderkey,\n",
    "        STRUCT_PACK(o_orderdate, o_totalprice, o_orderkey) AS order_info\n",
    "    FROM orders\n",
    ")\n",
    "SELECT \n",
    "    MIN(order_info) AS min_order_date,\n",
    "    MAX(order_info) AS max_order_date_price\n",
    "FROM order_struct;"
   ]
  },
  {
   "cell_type": "markdown",
   "id": "9bc43408-d7cf-4600-a836-e6d9031992bf",
   "metadata": {},
   "source": [
    "In the above example the `order_info` struct will be sorted based on `o_orderdate`, `o_totalprice`, `o_orderkey` in that order.\n",
    "If 2 `order_info` have the same `o_orderdate` then `o_totalprice` will be used to determine the order."
   ]
  },
  {
   "cell_type": "markdown",
   "id": "7458a050-f2e0-48e2-b230-2336537924de",
   "metadata": {},
   "source": [
    "### 1.4. Get the first/last element with row_number() + qualify"
   ]
  },
  {
   "cell_type": "code",
   "execution_count": null,
   "id": "d4831e7a-81df-4e28-916f-77717b34a702",
   "metadata": {},
   "outputs": [],
   "source": [
    "%%sql\n",
    "    SELECT \n",
    "        o_custkey, \n",
    "        o_orderdate, \n",
    "        o_totalprice,\n",
    "        ROW_NUMBER() OVER (PARTITION BY o_custkey ORDER BY o_orderdate DESC) AS rn\n",
    "    FROM orders\n",
    "QUALIFY rn = 1;"
   ]
  },
  {
   "cell_type": "markdown",
   "id": "ecad369c-2e91-4052-80db-ee8eafdea9cf",
   "metadata": {},
   "source": [
    "In the above example we are partitioning the data by `o_custkey` and ranking them in descing order of `o_orderdate`."
   ]
  },
  {
   "cell_type": "markdown",
   "id": "2e92819f-4bee-4db1-b5a9-5dd4270da2f3",
   "metadata": {},
   "source": [
    "### 1.5. Check if atleast one or all boolean values are true with BOOL_OR & BOOL_AND respectively"
   ]
  },
  {
   "cell_type": "code",
   "execution_count": null,
   "id": "dbbd6df3-e08c-4570-b878-e6796b0da9ef",
   "metadata": {},
   "outputs": [],
   "source": [
    "%%sql\n",
    "SELECT \n",
    "    o_custkey, \n",
    "    BOOL_OR(cast(o_shippriority as boolean)) AS has_atleast_one_priority_order,\n",
    "    BOOL_AND(cast(o_shippriority as boolean)) AS has_all_priority_order\n",
    "FROM orders\n",
    "GROUP BY o_custkey;"
   ]
  },
  {
   "cell_type": "markdown",
   "id": "510aa98a-7e26-44bb-9d5a-4f22d56af147",
   "metadata": {},
   "source": [
    "Explanation:\n",
    "* BOOL_OR(o_ispriority): This aggregate function checks whether **atleast one** of the orders for a customer (o_custkey) has a TRUE value in the o_ispriority column.\n",
    "* BOOL_AND(o_ispriority): This aggregate function checks whether **all** of the orders for a customer (o_custkey) has a TRUE value in the o_ispriority column.\n"
   ]
  },
  {
   "cell_type": "markdown",
   "id": "d54c1b58-9850-48f9-a7e7-1dc07e733b42",
   "metadata": {},
   "source": [
    "### 1.6. Want to select all columns except a few, use EXCLUDE"
   ]
  },
  {
   "cell_type": "code",
   "execution_count": null,
   "id": "cc7f48b6-39e2-47d3-9aa0-c65fbf08b5e2",
   "metadata": {},
   "outputs": [],
   "source": [
    "%%sql\n",
    "SELECT * EXCLUDE (o_orderdate, o_totalprice)\n",
    "FROM orders;"
   ]
  },
  {
   "cell_type": "markdown",
   "id": "ea832298-716f-4c1c-8835-166d8f911175",
   "metadata": {},
   "source": [
    "SELECT * EXCLUDE (o_orderdate, o_totalprice): This syntax selects all columns from the orders table except the specified columns (o_orderdate and o_totalprice)."
   ]
  },
  {
   "cell_type": "markdown",
   "id": "c2655be2-4a86-482c-9fa3-0a2aaf3d8b6e",
   "metadata": {},
   "source": [
    "### 1.7. Tired of creating a long list of columns from GROUP BY, use GROUP BY ALL"
   ]
  },
  {
   "cell_type": "code",
   "execution_count": null,
   "id": "3448de47-0c28-4bb3-b578-afda91e0f744",
   "metadata": {},
   "outputs": [],
   "source": [
    "%%sql\n",
    "SELECT \n",
    "    o_orderkey, \n",
    "    o_custkey, \n",
    "    o_orderstatus, \n",
    "    SUM(o_totalprice) AS total_price\n",
    "FROM orders\n",
    "GROUP BY ALL;"
   ]
  },
  {
   "cell_type": "markdown",
   "id": "9d0958f6-01c5-4688-b044-d3b17f51ad6b",
   "metadata": {},
   "source": [
    "Explanation:\n",
    "\n",
    "* GROUP BY ALL: This automatically groups by all non-aggregated columns in the SELECT statement (in this case, o_orderkey, o_custkey, and o_orderstatus).\n",
    "* SUM(o_totalprice): This is the aggregated column, so DuckDB will group by the remaining columns without you needing to explicitly list them.\n",
    "\n",
    "Using GROUP BY ALL prevents errors where you might forget to include one or more non-aggregated columns in the GROUP BY clause, making your SQL query more concise and less error-prone.\n",
    "\n",
    "This feature is particularly useful in queries with many columns, where manually writing out all group-by columns can become tedious and prone to mistakes."
   ]
  },
  {
   "cell_type": "markdown",
   "id": "978e73d0-b577-4a9b-b3b7-1569f9e6bd90",
   "metadata": {},
   "source": [
    "### 1.8. Need to count rows only if a certain condition is met? Use COUNT IF"
   ]
  },
  {
   "cell_type": "code",
   "execution_count": null,
   "id": "2221e8e7-518e-41a9-97f2-f30f681c8cc0",
   "metadata": {},
   "outputs": [],
   "source": [
    "%%sql\n",
    "SELECT \n",
    "    o_custkey, \n",
    "    COUNT_IF(o_totalprice > 100000) AS high_value_orders,\n",
    "    COUNT(o_totalprice) as all_orders\n",
    "FROM orders\n",
    "GROUP BY o_custkey;"
   ]
  },
  {
   "cell_type": "markdown",
   "id": "31f3e5e8-9db3-4e2a-981b-8d19c5c7ca34",
   "metadata": {},
   "source": [
    "This query groups by o_custkey and counts the number of orders for each customer where the total price is greater than 100,000.\n",
    "\n",
    "This is a powerful function that simplifies counting conditional occurrences in SQL. Without `COUNT_IF` you'd have to use `SUM(CASE WHEN o_totalprice > 100000 THEN 1 ELSE 0 END)`."
   ]
  },
  {
   "cell_type": "markdown",
   "id": "40d6602a-3a8e-404f-a811-15eef2f77466",
   "metadata": {},
   "source": [
    "### 1.9. Need to concatenate rows of string after GROUP BY? Use STRING_AGG"
   ]
  },
  {
   "cell_type": "code",
   "execution_count": null,
   "id": "943658ac-ace9-42ac-9dc2-179edbfd3b09",
   "metadata": {},
   "outputs": [],
   "source": [
    "%%sql\n",
    "SELECT STRING_AGG(c_name, ', ') AS customer_names\n",
    "FROM customer;"
   ]
  },
  {
   "cell_type": "markdown",
   "id": "46f8ff9b-ed16-464b-8037-8c67d86d76df",
   "metadata": {},
   "source": [
    "This query uses `STRING_AGG` in DuckDB to concatenate all the values from the `c_name` column in the `customer` table into a single string, separated by commas (`', '`), and returns it as `customer_names`."
   ]
  },
  {
   "cell_type": "markdown",
   "id": "ea1341de-f460-49a9-8fce-fa4c2bcfe86e",
   "metadata": {},
   "source": [
    "### 1.10. Handle Null column values with other columns or fallback values using COALESCE"
   ]
  },
  {
   "cell_type": "code",
   "execution_count": null,
   "id": "563ef647-66c7-432a-aad4-aec9df057471",
   "metadata": {},
   "outputs": [],
   "source": [
    "%%sql\n",
    "WITH fake_orders AS (\n",
    "    SELECT 1 AS o_orderkey, 100 AS o_totalprice, NULL AS discount\n",
    "    UNION ALL\n",
    "    SELECT 2 AS o_orderkey, 200 AS o_totalprice, 20 AS discount\n",
    "    UNION ALL\n",
    "    SELECT 3 AS o_orderkey, 300 AS o_totalprice, NULL AS discount\n",
    ")\n",
    "SELECT \n",
    "    o_orderkey, \n",
    "    o_totalprice, \n",
    "    discount,\n",
    "    COALESCE(discount, o_totalprice * 0.10) AS final_discount\n",
    "FROM fake_orders;\n"
   ]
  },
  {
   "cell_type": "markdown",
   "id": "9b6da29c-bd54-4cc4-b9ba-2f6951cd66f0",
   "metadata": {},
   "source": [
    "Explanation:\n",
    "* **COALESCE**: This function returns the first non-NULL value from a list of arguments.\n",
    "* In this example, if o_totalprice is NULL for any row, COALESCE replaces it with 0. Otherwise, it returns o_totalprice.\n",
    "* The query selects the o_orderkey and replaces NULL values in o_totalprice with 0.\n",
    "\n",
    "Use Case for COALESCE:\n",
    "\n",
    "* **Handling NULL Values**: When working with columns that may have NULL values, COALESCE can be used to substitute them with a default value (e.g., 0, '', or a custom string). This is particularly useful in financial calculations, reports, or data cleaning where NULL values need to be replaced with meaningful defaults to avoid errors or incorrect results.\n",
    "* **Fallback Values**: It can also be used to provide fallback options in queries, returning alternative values if the primary value is NULL."
   ]
  },
  {
   "cell_type": "markdown",
   "id": "b2d94c5b-1d1a-4f51-bbb1-aff8268b4daa",
   "metadata": {},
   "source": [
    "### 1.11. Generate a range of number/date rows with GENERATE_SERIES"
   ]
  },
  {
   "cell_type": "code",
   "execution_count": null,
   "id": "59d5b4ea-19b8-46d1-b837-91a84ec8bd8c",
   "metadata": {},
   "outputs": [],
   "source": [
    "%%sql\n",
    "SELECT *\n",
    "FROM generate_series(1, 10);"
   ]
  },
  {
   "cell_type": "code",
   "execution_count": null,
   "id": "a1f23baa-a1d5-487e-825c-0858d2c8a108",
   "metadata": {},
   "outputs": [],
   "source": [
    "%%sql\n",
    "SELECT *\n",
    "FROM generate_series('2024-01-01'::DATE, '2024-01-10'::DATE, INTERVAL 1 DAY);\n"
   ]
  },
  {
   "cell_type": "markdown",
   "id": "c254b216-c290-4a74-88d4-6e01a6cc1ff0",
   "metadata": {},
   "source": [
    "Explanation:\n",
    "\n",
    "* **generate_series(1, 10)**: This function generates a series of numbers from 1 to 10. Each number in the range is output as a separate row\n",
    "* The result will be a table with a single column of integers, from 1 to 10.\n",
    "\n",
    "Use Case:\n",
    "\n",
    "* **Data Simulation**: generate_series is often used to create a sequence of numbers for testing or simulating data (e.g., generating dates, IDs, or time intervals).\n",
    "* **Joining with Other Tables**: You can use generate_series to produce rows that can be joined with other tables, for example, to fill in missing dates or create sequences of data where needed.\n",
    "* **Looping/Iteration**: It's useful when you need to perform actions over a range of values, like generating monthly or yearly reports for a range of dates."
   ]
  },
  {
   "cell_type": "markdown",
   "id": "4e5e73a5-ac12-4604-a8d0-f929fb7da416",
   "metadata": {},
   "source": [
    "### 1.12. Convert ARRAY/LIST of elements to individual rows with UNNEST "
   ]
  },
  {
   "cell_type": "code",
   "execution_count": null,
   "id": "ff24481b-a8f9-4dd3-9bf1-f8a8b50d6ca3",
   "metadata": {},
   "outputs": [],
   "source": [
    "%%sql\n",
    "WITH nested_data AS (\n",
    "    SELECT 1 AS id, [10, 20, 30] AS values\n",
    "    UNION ALL\n",
    "    SELECT 2 AS id, [40, 50] AS values\n",
    ")\n",
    "SELECT \n",
    "    id, \n",
    "    UNNEST(values) AS flattened_value\n",
    "FROM nested_data;\n"
   ]
  },
  {
   "cell_type": "markdown",
   "id": "d8286cd0-7f82-4efe-859d-762022264426",
   "metadata": {},
   "source": [
    "Explanation:\n",
    "\n",
    "* **UNNEST(values)**: The UNNEST function takes the array in the values column and returns one row for each element in the array.\n",
    "\n",
    "Use Case for UNNEST:\n",
    "\n",
    "* **Nested Arrays**: Often used when working with semi-structured data like JSON arrays or nested lists, where you need to process each item in the array individually."
   ]
  },
  {
   "cell_type": "markdown",
   "id": "1f7a4531-090e-406f-ae8f-2e24fce50d6e",
   "metadata": {},
   "source": [
    "## 2. Get rows in one table depending on its presence/absence in another with SET operations"
   ]
  },
  {
   "cell_type": "markdown",
   "id": "b883e064-38e9-4d6a-991e-273fa6bbab34",
   "metadata": {},
   "source": [
    "### 2.1. Get data from a table based on existence of data in another with EXISTS"
   ]
  },
  {
   "cell_type": "code",
   "execution_count": null,
   "id": "8c617189-3332-4af7-994f-ff156abc2098",
   "metadata": {},
   "outputs": [],
   "source": [
    "%%sql\n",
    "SELECT \n",
    "    c_custkey, \n",
    "    c_name\n",
    "FROM customer \n",
    "WHERE EXISTS (\n",
    "    SELECT o_orderkey\n",
    "    FROM orders\n",
    "    WHERE o_totalprice > 5000000 \n",
    "    -- o_custkey = c_custkey  -- replace the above filter with this => Does the customer from customer table have atleast one order?\n",
    ");"
   ]
  },
  {
   "cell_type": "markdown",
   "id": "1bf56b17-6b08-487c-82f9-a7798e592448",
   "metadata": {},
   "source": [
    "The query returns customers who have at least one order whose `o_totalprice` is greater than *5,000,000*.\n",
    "\n",
    "**The EXISTS operator** tests for the existence of any row inside the subquery. It returns either true when the subquery returns one or more records, and false otherwise."
   ]
  },
  {
   "cell_type": "markdown",
   "id": "db124a9f-d346-4f5b-984a-147780ac3f56",
   "metadata": {},
   "source": [
    "### 2.2. Get data that is present in both the tables with INTERSECT"
   ]
  },
  {
   "cell_type": "code",
   "execution_count": null,
   "id": "5f1fca57-4c08-4960-8a9d-bebe9ee8bd89",
   "metadata": {},
   "outputs": [],
   "source": [
    "%%sql\n",
    "SELECT c_custkey \n",
    "FROM customer\n",
    "INTERSECT\n",
    "SELECT o_custkey \n",
    "FROM orders;"
   ]
  },
  {
   "cell_type": "markdown",
   "id": "b7d985c7-13c5-4ad7-b9ec-2c35827e1a8d",
   "metadata": {},
   "source": [
    " The query returns customers (c_custkey) who appear in both the customer table and the orders table."
   ]
  },
  {
   "cell_type": "markdown",
   "id": "4e00fb57-5972-4969-bce2-be2c9c05b1d6",
   "metadata": {},
   "source": [
    "### 2.3. Get data that is present in table 1 but not in table 2 with EXCEPT"
   ]
  },
  {
   "cell_type": "code",
   "execution_count": null,
   "id": "b0ae4016-45df-4594-b079-cbaf94915647",
   "metadata": {},
   "outputs": [],
   "source": [
    "%%sql\n",
    "SELECT c_custkey\n",
    "FROM customer\n",
    "EXCEPT\n",
    "SELECT o_custkey\n",
    "FROM orders o;"
   ]
  },
  {
   "cell_type": "markdown",
   "id": "7285d595-3ef8-4629-b4bf-ee120d91476e",
   "metadata": {},
   "source": [
    "The query returns customers (c_custkey) that are present in the customer table but do not have corresponding records in the orders table. The EXCEPT operator removes rows that have matches in the second query."
   ]
  },
  {
   "cell_type": "markdown",
   "id": "29c8d78d-87d4-4a03-85c7-382c855c9dcf",
   "metadata": {},
   "source": [
    "### 2.4. Get data diff (aka delta), with (A - B) U (B - A)"
   ]
  },
  {
   "cell_type": "code",
   "execution_count": null,
   "id": "3c8d1acd-340f-41c1-9aa6-398ca529e1b7",
   "metadata": {},
   "outputs": [],
   "source": [
    "%%sql\n",
    "-- ASSUME cust_test is the customer data's next data load\n",
    "DROP TABLE IF EXISTS cust_test;\n",
    "-- 1. Create cust_test table from customer\n",
    "CREATE TABLE cust_test AS SELECT * FROM customer;\n",
    "\n",
    "-- 2. Append a new row to cust_test\n",
    "-- Insert a new row with values for all columns\n",
    "INSERT INTO cust_test VALUES (9999, 'New Customer', 'new_customer@example.com', '123', '2024-10-21', 10.00, 'ExtraColumn2', 'ExtraColumn3');\n",
    "\n",
    "-- 3. Delete a row from cust_test (delete where customer_id = 2)\n",
    "DELETE FROM cust_test WHERE c_custkey = 2;\n",
    "\n",
    "-- 4. Update a row in cust_test (update customer with customer_id = 1)\n",
    "UPDATE cust_test\n",
    "SET c_name = 'Updated Name', c_address = 'updated address'\n",
    "WHERE c_custkey = 1;\n"
   ]
  },
  {
   "cell_type": "code",
   "execution_count": null,
   "id": "bd14eaa8-47e0-48e2-ab3b-5436f2b79c98",
   "metadata": {},
   "outputs": [],
   "source": [
    "%%sql\n",
    "\n",
    "SELECT c_custkey, 'DELETED' as ops FROM ( \n",
    "SELECT c_custkey\n",
    "FROM customer\n",
    "EXCEPT\n",
    "SELECT c_custkey\n",
    "FROM cust_test)\n",
    "\n",
    "UNION ALL\n",
    "\n",
    "SELECT c_custkey, 'UPSERTED' as ops FROM ( \n",
    "SELECT c_custkey, c_name, c_address\n",
    "FROM cust_test\n",
    "EXCEPT\n",
    "SELECT c_custkey, c_name, c_address\n",
    "FROM customer)\n",
    "\n"
   ]
  },
  {
   "cell_type": "markdown",
   "id": "05ed77b2-ca9e-4e90-abaa-0eebdc0b209b",
   "metadata": {},
   "source": [
    "## 3. Create re-usable functions in SQL"
   ]
  },
  {
   "cell_type": "markdown",
   "id": "855532a1-759f-49a7-bba4-00a8d1f66537",
   "metadata": {},
   "source": [
    "### 3.1. Functions in SQL are called MACROs"
   ]
  },
  {
   "cell_type": "code",
   "execution_count": null,
   "id": "7abcdfad-6a0f-450e-99e0-839ad55fb9d5",
   "metadata": {},
   "outputs": [],
   "source": [
    "%%sql\n",
    "CREATE MACRO IF NOT EXISTS percentage(numerator, denominator) AS (\n",
    "    (CAST(numerator AS DOUBLE) / CAST(denominator AS DOUBLE)) * 100\n",
    ");\n"
   ]
  },
  {
   "cell_type": "code",
   "execution_count": null,
   "id": "1d2a15bf-1683-42c1-b723-e82af7c61259",
   "metadata": {},
   "outputs": [],
   "source": [
    "%%sql\n",
    "SELECT o_orderkey, o_totalprice, percentage(o_totalprice, 50000) AS discount_percentage\n",
    "FROM orders\n",
    "LIMIT 5;\n"
   ]
  },
  {
   "cell_type": "markdown",
   "id": "e93e2c47-cfe7-466d-b0eb-80ac04f28d62",
   "metadata": {},
   "source": [
    "Explanation:\n",
    "* The macro percentage takes two parameters, numerator and denominator, and returns the percentage calculation.\n",
    "* In this case, it calculates the percentage of o_totalprice against a constant value (50,000).\n",
    "* The macro is used like a function but expanded inline when the query is executed."
   ]
  },
  {
   "cell_type": "code",
   "execution_count": null,
   "id": "604b0c43-2eb1-4131-b59d-846282ac8ea0",
   "metadata": {},
   "outputs": [],
   "source": [
    "%%sql\n",
    "CREATE MACRO IF NOT EXISTS large_order(order_price) AS (\n",
    "    CASE\n",
    "        WHEN order_price > 100000 THEN 'Large Order'\n",
    "        ELSE 'Regular Order'\n",
    "    END\n",
    ");"
   ]
  },
  {
   "cell_type": "code",
   "execution_count": null,
   "id": "674ddeb9-a695-4849-ae5f-06ce14ac63c6",
   "metadata": {},
   "outputs": [],
   "source": [
    "%%sql\n",
    "SELECT o_orderkey, o_totalprice, large_order(o_totalprice) AS order_type\n",
    "FROM orders\n",
    "LIMIT 5;"
   ]
  },
  {
   "cell_type": "markdown",
   "id": "184f617b-f79f-466a-98e1-59c24d26a333",
   "metadata": {},
   "source": [
    "Summary:\n",
    "* SQL Macros are useful for encapsulating reusable SQL expressions, similar to functions in other programming languages.\n",
    "* They allow you to abstract complex logic and reuse it in different parts of your query, improving both readability and maintainability.\n",
    "* DuckDB macros are inline, meaning they are expanded at query execution time, which avoids the overhead of function calls."
   ]
  },
  {
   "cell_type": "markdown",
   "id": "58cd3f8f-f1a8-4b77-859c-ccc2ef488604",
   "metadata": {},
   "source": [
    "## 4. Dynamically generate SQL with Python"
   ]
  },
  {
   "cell_type": "markdown",
   "id": "31379228-13ee-4b4a-a716-a8e1fab772eb",
   "metadata": {},
   "source": [
    "### 4.1. Use Jinja2 to create SQL queries in Python"
   ]
  },
  {
   "cell_type": "code",
   "execution_count": null,
   "id": "a6302c8d-66db-4dd5-910a-a3a20e55fdd7",
   "metadata": {},
   "outputs": [],
   "source": [
    "from jinja2 import Template\n",
    "\n",
    "# Define a Jinja2 SQL template with a loop\n",
    "sql_template = \"\"\"\n",
    "SELECT o_orderkey, o_custkey, o_totalprice\n",
    "FROM orders\n",
    "WHERE o_totalprice > {{ price_threshold }}\n",
    "{% if customer_keys %}\n",
    "  AND o_custkey IN (\n",
    "    {% for custkey in customer_keys %}\n",
    "      {{ custkey }}{% if not loop.last %}, {% endif %}\n",
    "    {% endfor %}\n",
    "  )\n",
    "{% endif %}\n",
    "ORDER BY o_totalprice DESC;\n",
    "\"\"\"\n",
    "\n",
    "# Render the template with dynamic parameters\n",
    "template = Template(sql_template)\n",
    "\n",
    "# Parameters to be passed to the template\n",
    "params = {\n",
    "    \"price_threshold\": 20000,\n",
    "    \"customer_keys\": [1001, 1002, 1003]  # A list of customer keys to filter on\n",
    "}\n",
    "\n",
    "# Render the SQL query (do not execute, just generate SQL)\n",
    "rendered_sql = template.render(params)\n",
    "\n",
    "# Output the generated SQL\n",
    "print(\"Generated SQL Query:\")\n",
    "print(\"====================\")\n",
    "print(rendered_sql)\n"
   ]
  },
  {
   "cell_type": "markdown",
   "id": "5060f215-078e-4e82-9ee1-f5a1dbae6f40",
   "metadata": {},
   "source": [
    "Explanation:\n",
    "\n",
    "* Jinja2 Loop: The {% for custkey in customer_keys %} loop dynamically generates the IN clause, listing the customer keys separated by commas.\n",
    "* Conditional Logic: The {% if customer_keys %} block ensures that the IN clause is only added if the customer_keys list is not empty.\n",
    "* loop.last: This Jinja2 variable is used to avoid adding a comma after the last item in the list."
   ]
  },
  {
   "cell_type": "markdown",
   "id": "4c4faa91-8200-4874-81d9-d959001da54d",
   "metadata": {},
   "source": [
    "## 5. Access data about your data (aka metadata)"
   ]
  },
  {
   "cell_type": "markdown",
   "id": "cdef47dd-ce5d-46f8-928f-7b6666b23e3a",
   "metadata": {},
   "source": [
    "See your db documentation to see where this data is stored. For DuckDB **[checkout their docs here](https://duckdb.org/docs/sql/meta/information_schema)**."
   ]
  },
  {
   "cell_type": "markdown",
   "id": "cadcadd8-a11c-4ae7-8007-40e64b56d5b9",
   "metadata": {},
   "source": [
    "### 5.1. Databases store metadata in information_schema"
   ]
  },
  {
   "cell_type": "code",
   "execution_count": null,
   "id": "ecca416a-69f7-4aa6-9204-f0ba22ba5f8b",
   "metadata": {},
   "outputs": [],
   "source": [
    "%%sql\n",
    "-- Information about our tables are stored here\n",
    "SELECT schema_name,\n",
    "    view_name\n",
    "    FROM duckdb_views();"
   ]
  },
  {
   "cell_type": "code",
   "execution_count": null,
   "id": "49237cf4-eda5-41d1-b077-2298de19b7f5",
   "metadata": {},
   "outputs": [],
   "source": [
    "%%sql\n",
    "select * from information_schema.tables;"
   ]
  },
  {
   "cell_type": "code",
   "execution_count": null,
   "id": "e3e2ed67-4c0e-4d67-90a9-835c962185fd",
   "metadata": {},
   "outputs": [],
   "source": [
    "%%sql\n",
    "-- database level settings\n",
    "SELECT * FROM duckdb_settings();"
   ]
  },
  {
   "cell_type": "code",
   "execution_count": null,
   "id": "63b62e51-8a16-442e-8dbf-bf9a0c56d290",
   "metadata": {},
   "outputs": [],
   "source": [
    "%%sql\n",
    "-- list of all tables in our DuckDB \n",
    "SELECT schema_name,\n",
    "    table_name\n",
    "    FROM duckdb_tables();"
   ]
  },
  {
   "cell_type": "markdown",
   "id": "1986595b-7fc3-4348-ac74-532f9e2fe5d7",
   "metadata": {},
   "source": [
    "## 6. Avoid data duplicates with UPSERTS (aka MERGE INTO)"
   ]
  },
  {
   "cell_type": "markdown",
   "id": "784b245d-498b-42b0-a27f-e4b42214157f",
   "metadata": {},
   "source": [
    "### 6.1. Insert new data, Update existing data in a table with UPSERT/MERGE INTO"
   ]
  },
  {
   "cell_type": "code",
   "execution_count": null,
   "id": "b39cf96f-b039-4bab-9321-5a2922f3d199",
   "metadata": {},
   "outputs": [],
   "source": [
    "%%sql\n",
    "DROP TABLE IF EXISTS dim_customer_scd2;\n",
    "-- Create a Slowly Changing Dimension (SCD Type 2) table for customer\n",
    "CREATE TABLE dim_customer_scd2 (\n",
    "    c_custkey INTEGER PRIMARY KEY,\n",
    "    c_name VARCHAR,\n",
    "    c_address VARCHAR,\n",
    "    c_nationkey INTEGER,\n",
    "    c_phone VARCHAR,\n",
    "    c_acctbal DOUBLE,\n",
    "    c_mktsegment VARCHAR,\n",
    "    c_comment VARCHAR,\n",
    "    valid_from DATE,\n",
    "    valid_to DATE,\n",
    "    is_current BOOLEAN\n",
    ");\n",
    "\n",
    "-- Insert current data from the TPCH customer table into the SCD2 table\n",
    "INSERT INTO dim_customer_scd2\n",
    "SELECT \n",
    "    c_custkey, \n",
    "    c_name, \n",
    "    c_address, \n",
    "    c_nationkey, \n",
    "    c_phone, \n",
    "    c_acctbal, \n",
    "    c_mktsegment, \n",
    "    c_comment,\n",
    "    '2024-10-17' AS valid_from,\n",
    "    NULL AS valid_to,  -- NULL means it's the current active record\n",
    "    TRUE AS is_current\n",
    "FROM customer;"
   ]
  },
  {
   "cell_type": "code",
   "execution_count": null,
   "id": "381b5f30-c2a3-429b-9566-90f631ec2546",
   "metadata": {},
   "outputs": [],
   "source": [
    "%%sql\n",
    "select * from dim_customer_scd2 order by c_custkey desc limit 2 ;"
   ]
  },
  {
   "cell_type": "code",
   "execution_count": null,
   "id": "7d9878fb-e028-45c3-9a3a-19bc81d888a8",
   "metadata": {},
   "outputs": [],
   "source": [
    "%%sql\n",
    "INSERT INTO dim_customer_scd2 (\n",
    "    c_custkey, \n",
    "    c_name, \n",
    "    c_address, \n",
    "    c_nationkey, \n",
    "    c_phone, \n",
    "    c_acctbal, \n",
    "    c_mktsegment, \n",
    "    c_comment, \n",
    "    valid_from, \n",
    "    valid_to, \n",
    "    is_current\n",
    ")\n",
    "VALUES\n",
    "    (1, 'Customer#000000001', 'New Address 1', 15, '25-989-741-2988', 711.56, 'BUILDING', 'comment1', '2024-10-18', NULL, TRUE),\n",
    "    (2, 'Customer#000000002', 'New Address 2', 18, '12-423-790-3665', 879.49, 'FURNITURE', 'comment2', '2024-10-18', NULL, TRUE),\n",
    "    (1501, 'Customer#000001501', 'New Address 1501', 24, '11-345-678-9012', 500.50, 'MACHINERY', 'comment1501', '2024-10-18', NULL, TRUE),\n",
    "    (1502, 'Customer#000001502', 'New Address 1502', 21, '22-456-789-0123', 600.75, 'AUTOMOBILE', 'comment1502', '2024-10-18', NULL, TRUE)\n",
    "ON CONFLICT (c_custkey) DO \n",
    "-- Handle existing customers (Customer#000000001 and Customer#000000002) for SCD Type 2\n",
    "UPDATE SET valid_to = EXCLUDED.valid_from, is_current = FALSE\n",
    "WHERE dim_customer_scd2.c_custkey = EXCLUDED.c_custkey AND dim_customer_scd2.is_current = TRUE;"
   ]
  },
  {
   "cell_type": "code",
   "execution_count": null,
   "id": "5d770bce-63da-41ab-b2e5-39c273c7139b",
   "metadata": {},
   "outputs": [],
   "source": [
    "%%sql\n",
    "SELECT * from dim_customer_scd2\n",
    "WHERE c_custkey in (1,2,1501, 1502)\n",
    "order by c_custkey;"
   ]
  },
  {
   "cell_type": "markdown",
   "id": "a36e44f2-5aa7-424d-be46-08c3b587e7f2",
   "metadata": {},
   "source": [
    "In the above example, we can see that we create an **[SCD2](https://www.startdataengineering.com/post/how-to-join-fact-scd2-tables/#what-is-an-scd2-table-and-why-use-it)** table and UPSERT new data into it using UPSERT.\n",
    "\n",
    "**Note** Some DBs have `INSERT..ON CONFLICT` and some have access to `MERGE INTO..` Check your DB/Table format documentation for details.                                                            "
   ]
  },
  {
   "cell_type": "markdown",
   "id": "e10284d2-2fa3-458a-b45a-0e23da0d7e45",
   "metadata": {},
   "source": [
    "## 7. Advanced JOIN types"
   ]
  },
  {
   "cell_type": "markdown",
   "id": "93a150b8-44e6-4fc4-b2ed-3729a8d30171",
   "metadata": {},
   "source": [
    "### 7.1. Get value from table2 that is closest(in time) to table1's row with ASOF JOIN "
   ]
  },
  {
   "cell_type": "code",
   "execution_count": null,
   "id": "7e94b561-d2e3-48fd-8d1f-d77359d83086",
   "metadata": {},
   "outputs": [],
   "source": [
    "%%sql\n",
    "WITH stock_prices AS (\n",
    "    SELECT 'APPL' AS ticker, TIMESTAMP '2001-01-01 00:00:00' AS \"when\", 1 AS price\n",
    "    UNION ALL\n",
    "    SELECT 'APPL', TIMESTAMP '2001-01-01 00:01:00', 2\n",
    "    UNION ALL\n",
    "    SELECT 'APPL', TIMESTAMP '2001-01-01 00:02:00', 3\n",
    "    UNION ALL\n",
    "    SELECT 'MSFT', TIMESTAMP '2001-01-01 00:00:00', 1\n",
    "    UNION ALL\n",
    "    SELECT 'MSFT', TIMESTAMP '2001-01-01 00:01:00', 2\n",
    "    UNION ALL\n",
    "    SELECT 'MSFT', TIMESTAMP '2001-01-01 00:02:00', 3\n",
    "    UNION ALL\n",
    "    SELECT 'GOOG', TIMESTAMP '2001-01-01 00:00:00', 1\n",
    "    UNION ALL\n",
    "    SELECT 'GOOG', TIMESTAMP '2001-01-01 00:01:00', 2\n",
    "    UNION ALL\n",
    "    SELECT 'GOOG', TIMESTAMP '2001-01-01 00:02:00', 3\n",
    "),\n",
    "portfolio_holdings AS (\n",
    "    SELECT 'APPL' AS ticker, TIMESTAMP '2000-12-31 23:59:30' AS \"when\", 5.16 AS shares\n",
    "    UNION ALL\n",
    "    SELECT 'APPL', TIMESTAMP '2001-01-01 00:00:30', 2.94\n",
    "    UNION ALL\n",
    "    SELECT 'APPL', TIMESTAMP '2001-01-01 00:01:30', 24.13\n",
    "    UNION ALL\n",
    "    SELECT 'GOOG', TIMESTAMP '2000-12-31 23:59:30', 9.33\n",
    "    UNION ALL\n",
    "    SELECT 'GOOG', TIMESTAMP '2001-01-01 00:00:30', 23.45\n",
    "    UNION ALL\n",
    "    SELECT 'GOOG', TIMESTAMP '2001-01-01 00:01:30', 10.58\n",
    "    UNION ALL\n",
    "    SELECT 'DATA', TIMESTAMP '2000-12-31 23:59:30', 6.65\n",
    "    UNION ALL\n",
    "    SELECT 'DATA', TIMESTAMP '2001-01-01 00:00:30', 17.95\n",
    "    UNION ALL\n",
    "    SELECT 'DATA', TIMESTAMP '2001-01-01 00:01:30', 18.37\n",
    ")\n",
    "SELECT h.ticker,\n",
    "    h.when,\n",
    "    p.when as stock_price_ts,\n",
    "    price,\n",
    "    shares,\n",
    "    price * shares AS value\n",
    "FROM portfolio_holdings h\n",
    "ASOF JOIN stock_prices p\n",
    "       ON h.ticker = p.ticker\n",
    "      AND h.when >= p.when\n",
    "ORDER BY 1, 2;"
   ]
  },
  {
   "cell_type": "markdown",
   "id": "065fffa7-3b97-4986-ae61-84a6714c727f",
   "metadata": {},
   "source": [
    "AsOf joins are used to solve is finding the value of a varying property at a specific point in time. This use case is so common that it is where the name came from:\n",
    "\n",
    "**Give me the value of the property as of this time.**\n",
    "\n",
    "In the above example, note that even thought rows in `portfolio_holdings` match with multiple rows in `stock_prices` we only pick the row from `stock_price` that is closest(in time) to row in `portfolio_holdings`."
   ]
  },
  {
   "cell_type": "code",
   "execution_count": null,
   "id": "dde7c987-60b6-40a4-920d-54b91e653b56",
   "metadata": {},
   "outputs": [],
   "source": [
    "%%sql\n",
    "WITH stock_prices AS (\n",
    "    SELECT 'APPL' AS ticker, TIMESTAMP '2001-01-01 00:00:00' AS \"when\", 1 AS price\n",
    "    UNION ALL\n",
    "    SELECT 'APPL', TIMESTAMP '2001-01-01 00:01:00', 2\n",
    "    UNION ALL\n",
    "    SELECT 'APPL', TIMESTAMP '2001-01-01 00:02:00', 3\n",
    "    UNION ALL\n",
    "    SELECT 'MSFT', TIMESTAMP '2001-01-01 00:00:00', 1\n",
    "    UNION ALL\n",
    "    SELECT 'MSFT', TIMESTAMP '2001-01-01 00:01:00', 2\n",
    "    UNION ALL\n",
    "    SELECT 'MSFT', TIMESTAMP '2001-01-01 00:02:00', 3\n",
    "    UNION ALL\n",
    "    SELECT 'GOOG', TIMESTAMP '2001-01-01 00:00:00', 1\n",
    "    UNION ALL\n",
    "    SELECT 'GOOG', TIMESTAMP '2001-01-01 00:01:00', 2\n",
    "    UNION ALL\n",
    "    SELECT 'GOOG', TIMESTAMP '2001-01-01 00:02:00', 3\n",
    "),\n",
    "portfolio_holdings AS (\n",
    "    SELECT 'APPL' AS ticker, TIMESTAMP '2000-12-31 23:59:30' AS \"when\", 5.16 AS shares\n",
    "    UNION ALL\n",
    "    SELECT 'APPL', TIMESTAMP '2001-01-01 00:00:30', 2.94\n",
    "    UNION ALL\n",
    "    SELECT 'APPL', TIMESTAMP '2001-01-01 00:01:30', 24.13\n",
    "    UNION ALL\n",
    "    SELECT 'GOOG', TIMESTAMP '2000-12-31 23:59:30', 9.33\n",
    "    UNION ALL\n",
    "    SELECT 'GOOG', TIMESTAMP '2001-01-01 00:00:30', 23.45\n",
    "    UNION ALL\n",
    "    SELECT 'GOOG', TIMESTAMP '2001-01-01 00:01:30', 10.58\n",
    "    UNION ALL\n",
    "    SELECT 'DATA', TIMESTAMP '2000-12-31 23:59:30', 6.65\n",
    "    UNION ALL\n",
    "    SELECT 'DATA', TIMESTAMP '2001-01-01 00:00:30', 17.95\n",
    "    UNION ALL\n",
    "    SELECT 'DATA', TIMESTAMP '2001-01-01 00:01:30', 18.37\n",
    ")\n",
    "SELECT h.ticker,\n",
    "    h.when,\n",
    "    p.when as stock_price_ts,\n",
    "    price,\n",
    "    shares,\n",
    "    price * shares AS value\n",
    "FROM portfolio_holdings h\n",
    " JOIN stock_prices p\n",
    "       ON h.ticker = p.ticker\n",
    "      AND h.when >= p.when\n",
    "ORDER BY 1, 2;"
   ]
  },
  {
   "cell_type": "markdown",
   "id": "dc0a0430-a533-46d0-a5e7-dee9a6f47927",
   "metadata": {},
   "source": [
    "If we do not use `asof` join, we will have to use windows to filter out data. \n",
    "![as of join](./images/asof.png)"
   ]
  },
  {
   "cell_type": "markdown",
   "id": "0cf993b3-59b7-40cb-b822-16a982dfc500",
   "metadata": {},
   "source": [
    "### 7.2. Get rows in table1 that are not in table2 with ANTI JOIN"
   ]
  },
  {
   "cell_type": "code",
   "execution_count": null,
   "id": "caed5403-48bf-4633-b552-58115aab8691",
   "metadata": {},
   "outputs": [],
   "source": [
    "%%sql\n",
    "SELECT c.c_custkey\n",
    "FROM customer c\n",
    "LEFT JOIN orders o\n",
    "ON c.c_custkey = o.o_custkey\n",
    "WHERE o.o_custkey IS NULL\n",
    "ORDER BY c.c_custkey\n",
    "LIMIT 5;"
   ]
  },
  {
   "cell_type": "code",
   "execution_count": null,
   "id": "5cfde222-a045-429c-befd-baf4efd2aa6a",
   "metadata": {},
   "outputs": [],
   "source": [
    "%%sql\n",
    "-- some DBs have inbuilt support for left anti join\n",
    "SELECT c.c_custkey\n",
    "FROM customer c\n",
    "ANTI JOIN orders o\n",
    "ON c.c_custkey = o.o_custkey\n",
    "ORDER BY c.c_custkey\n",
    "LIMIT 5;"
   ]
  },
  {
   "cell_type": "markdown",
   "id": "59c28d1e-3cf6-440b-80c3-5cd1719339c7",
   "metadata": {},
   "source": [
    "### 7.3. For every row in table1 join will all the \"matching\" rows in table2 with LATERAL JOIN"
   ]
  },
  {
   "cell_type": "code",
   "execution_count": null,
   "id": "14a02a29-903a-4da4-9c91-7667152c1ec8",
   "metadata": {},
   "outputs": [],
   "source": [
    "%%sql\n",
    "SELECT \n",
    "    o.o_orderkey, \n",
    "    o.o_totalprice, \n",
    "    l.l_linenumber,\n",
    "    l.l_extendedprice\n",
    "FROM orders o,\n",
    "LATERAL (\n",
    "    SELECT l.l_linenumber,\n",
    "    l_extendedprice\n",
    "    FROM lineitem l\n",
    "    WHERE l.l_orderkey = o.o_orderkey\n",
    "    and l.l_linenumber <= 2\n",
    "    and l.l_extendedprice < (o.o_totalprice/2)\n",
    ") AS l\n",
    "    ORDER BY 1, 3;"
   ]
  },
  {
   "cell_type": "markdown",
   "id": "9067940b-8697-4d4b-8ab5-1b7292ec1837",
   "metadata": {},
   "source": [
    "For each row in the orders table (o), the subquery in the LATERAL JOIN selects line items (l) that match certain conditions."
   ]
  },
  {
   "cell_type": "code",
   "execution_count": null,
   "id": "0e76969b-a8ff-437a-9a67-1a887164cf98",
   "metadata": {},
   "outputs": [],
   "source": [
    "%%sql\n",
    "SELECT *\n",
    "FROM range(3) t(i), LATERAL (SELECT i + 1) t2(j);"
   ]
  },
  {
   "cell_type": "code",
   "execution_count": null,
   "id": "a44bb1f9-e701-4af9-b71b-c090548f3fe0",
   "metadata": {},
   "outputs": [],
   "source": [
    "%%sql\n",
    "SELECT \n",
    "    o.o_orderkey, \n",
    "    o.o_totalprice, \n",
    "    l.lineitem_count\n",
    "FROM orders o,\n",
    "LATERAL (\n",
    "    SELECT COUNT(*) AS lineitem_count\n",
    "    FROM lineitem l\n",
    "    WHERE l.l_orderkey = o.o_orderkey\n",
    ") AS l;"
   ]
  },
  {
   "cell_type": "markdown",
   "id": "415c3f6b-8461-45bd-a789-189b1063dabd",
   "metadata": {},
   "source": [
    "For each row in the orders table (o), the subquery in the LATERAL JOIN counts the number of line items (lineitem_count) related to that order.\n"
   ]
  },
  {
   "cell_type": "markdown",
   "id": "14edc6b5-9e7f-4887-9489-87a773ca75ad",
   "metadata": {},
   "source": [
    "## 8. Business use cases"
   ]
  },
  {
   "cell_type": "markdown",
   "id": "c5462214-51c9-438e-a911-8ef29756a2b3",
   "metadata": {},
   "source": [
    "### 8.1. Change dimension values to individual columns with PIVOT"
   ]
  },
  {
   "cell_type": "code",
   "execution_count": null,
   "id": "a380c129-aba9-407e-a2ef-9323de312bec",
   "metadata": {},
   "outputs": [],
   "source": [
    "%%sql\n",
    "SELECT \n",
    "    o_custkey,\n",
    "    SUM(CASE WHEN o_orderstatus = 'F' THEN o_totalprice ELSE 0 END) AS fulfilled_total,\n",
    "    SUM(CASE WHEN o_orderstatus = 'O' THEN o_totalprice ELSE 0 END) AS open_total,\n",
    "    SUM(CASE WHEN o_orderstatus = 'P' THEN o_totalprice ELSE 0 END) AS pending_total\n",
    "FROM orders\n",
    "GROUP BY o_custkey\n",
    "ORDER BY o_custkey;"
   ]
  },
  {
   "cell_type": "markdown",
   "id": "e1c992be-fe38-44ce-9c82-39d91095c2e1",
   "metadata": {},
   "source": [
    "Explanation:\n",
    "\n",
    "* SUM(CASE WHEN o_orderstatus = 'F' THEN o_totalprice ELSE 0 END): This sums up the o_totalprice for orders that have a status of 'F' (Fulfilled) for each customer (o_custkey).\n",
    "* Similarly, we apply this for other statuses like 'O' (Open) and 'P' (Pending) to pivot the data by o_orderstatus.\n",
    "* GROUP BY o_custkey: Groups the data by each customer to aggregate the total prices based on order status."
   ]
  },
  {
   "cell_type": "code",
   "execution_count": null,
   "id": "6fa3cded-8b9f-4111-88f9-dbf10e9c36a5",
   "metadata": {},
   "outputs": [],
   "source": [
    "%%sql\n",
    "-- some DBs have support for PIVOT\n",
    "FROM orders\n",
    "PIVOT (\n",
    "    sum(o_totalprice)\n",
    "    FOR\n",
    "        o_orderstatus IN ('F', 'O', 'P')\n",
    "    GROUP BY o_custkey\n",
    ")\n",
    "    ORDER BY o_custkey;"
   ]
  },
  {
   "cell_type": "markdown",
   "id": "301530e0-6f51-4675-a4eb-e04b8d76eb18",
   "metadata": {},
   "source": [
    "### 8.2. Generate metrics for every possible combination of dimensions with CUBE"
   ]
  },
  {
   "cell_type": "code",
   "execution_count": null,
   "id": "c89debc8-4e26-4dda-95ab-03e3581612c5",
   "metadata": {},
   "outputs": [],
   "source": [
    "%%sql\n",
    "SELECT \n",
    "    o_orderpriority,\n",
    "    o_orderstatus,\n",
    "    EXTRACT(YEAR FROM o_orderdate) AS order_year,\n",
    "    SUM(o_totalprice) AS total_sales\n",
    "FROM orders\n",
    "GROUP BY CUBE (o_orderpriority, o_orderstatus, order_year)\n",
    "ORDER BY 1,2,3;"
   ]
  },
  {
   "cell_type": "markdown",
   "id": "9dd921a4-fe01-4233-87c7-017499f8c839",
   "metadata": {},
   "source": [
    "Explanation:\n",
    "\n",
    "* CUBE (o_custkey, o_orderstatus, order_year): This will group the data and calculate subtotals and grand totals for all possible combinations of o_custkey, o_orderstatus, and order_year.\n",
    "* It will generate all combinations of the grouping columns, including:\n",
    "    * Grouping by just o_custkey\n",
    "    * Grouping by just o_orderstatus\n",
    "    * Grouping by just order_year\n",
    "    * Grouping by all three together\n",
    "    * Grouping by pairs of columns\n",
    "    * A grand total (no grouping by any column)\n",
    "    * SUM(o_totalprice): For each combination of groupings, it sums the total order price.\n",
    "\n",
    "Example Output:\n",
    "\n",
    "The query will return something like the following:\n",
    "| o_custkey | o_orderstatus | order_year | total_sales |\n",
    "|-----------|---------------|------------|-------------|\n",
    "| 1001      | O             | 2024       | 20000.00    |\n",
    "| 1001      | F             | 2023       | 15000.00    |\n",
    "| 1001      | O             | NULL       | 35000.00    |\n",
    "| 1002      | NULL          | 2024       | 30000.00    |\n",
    "| NULL      | O             | 2024       | 50000.00    |\n",
    "| NULL      | NULL          | NULL       | 100000.00   |\n",
    "\n",
    "\n",
    "Grand Total: The row with all NULL values represents the grand total (total_sales for all customers, all statuses, and all years).\n",
    "                                                                      \n",
    "Subtotals:\n",
    "                                                                      \n",
    "* The row with o_custkey = 1001, o_orderstatus = 'O', and order_year = NULL represents the subtotal of orders for customer 1001 and status 'O' across all years.\n",
    "* The row with o_custkey = NULL, o_orderstatus = 'O', and order_year = 2024 represents the subtotal for all customers with status 'O' in the year 2024.\n",
    "\n",
    "Use Case:\n",
    "\n",
    "1. OLAP Reporting: CUBE is commonly used in OLAP scenarios where you need to analyze data from multiple perspectives. For instance, you may want to generate reports that show total sales by customer, by order status, by year, and all possible combinations of these dimensions.\n",
    "2. Sales Analysis: In sales analysis, CUBE can help create pivot-like summaries that show how different attributes (e.g., region, product, time period) contribute to the overall sales.\n",
    "3. Financial Reports: Financial departments often use CUBE to calculate totals and subtotals across dimensions like departments, time periods, and account categories, making it easier to prepare comprehensive financial reports.\n",
    "\n",
    "This is a powerful tool for producing multidimensional summaries of data in one go, helping with complex reporting and data analysis tasks."
   ]
  }
 ],
 "metadata": {
  "kernelspec": {
   "display_name": "Python 3 (ipykernel)",
   "language": "python",
   "name": "python3"
  },
  "language_info": {
   "codemirror_mode": {
    "name": "ipython",
    "version": 3
   },
   "file_extension": ".py",
   "mimetype": "text/x-python",
   "name": "python",
   "nbconvert_exporter": "python",
   "pygments_lexer": "ipython3",
   "version": "3.12.4"
  }
 },
 "nbformat": 4,
 "nbformat_minor": 5
}
